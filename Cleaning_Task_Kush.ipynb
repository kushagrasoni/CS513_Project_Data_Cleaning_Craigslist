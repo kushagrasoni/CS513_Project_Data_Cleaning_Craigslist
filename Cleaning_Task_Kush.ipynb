{
 "cells": [
  {
   "cell_type": "code",
   "execution_count": 1,
   "outputs": [],
   "source": [
    "import numpy as np\n",
    "import pandas as pd"
   ],
   "metadata": {
    "collapsed": false,
    "pycharm": {
     "name": "#%%\n"
    }
   }
  },
  {
   "cell_type": "code",
   "execution_count": 2,
   "outputs": [
    {
     "name": "stdout",
     "output_type": "stream",
     "text": [
      "<class 'pandas.core.frame.DataFrame'>\n",
      "RangeIndex: 2858 entries, 0 to 2857\n",
      "Data columns (total 17 columns):\n",
      " #   Column                 Non-Null Count  Dtype  \n",
      "---  ------                 --------------  -----  \n",
      " 0   web-scraper-order      2858 non-null   object \n",
      " 1   web-scraper-start-url  2858 non-null   object \n",
      " 2   pagination             2751 non-null   object \n",
      " 3   listing-title          2858 non-null   object \n",
      " 4   listing-description    2858 non-null   object \n",
      " 5   listing-housing-type   2858 non-null   object \n",
      " 6   listing-features       2858 non-null   object \n",
      " 7   listing-notices        2858 non-null   object \n",
      " 8   listing-id             2858 non-null   object \n",
      " 9   listing-link           2858 non-null   object \n",
      " 10  listing-link-href      2858 non-null   object \n",
      " 11  listing-availability   1534 non-null   object \n",
      " 12  listing-posting-date   2858 non-null   object \n",
      " 13  listing-address        2098 non-null   object \n",
      " 14  listing-map-latitude   2857 non-null   float64\n",
      " 15  listing-map-longitude  2857 non-null   float64\n",
      " 16  listing-map-accuracy   2857 non-null   float64\n",
      "dtypes: float64(3), object(14)\n",
      "memory usage: 379.7+ KB\n"
     ]
    }
   ],
   "source": [
    "data_file = \"data/project-dataset-final.xlsx\"\n",
    "df_listings = pd.read_excel(data_file, index_col=None)\n",
    "df_listings.info()"
   ],
   "metadata": {
    "collapsed": false,
    "pycharm": {
     "name": "#%%\n"
    }
   }
  },
  {
   "cell_type": "code",
   "execution_count": 3,
   "outputs": [
    {
     "data": {
      "text/plain": "                      Data Type\nweb-scraper-order        object\nweb-scraper-start-url    object\npagination               object\nlisting-title            object\nlisting-description      object\nlisting-housing-type     object\nlisting-features         object\nlisting-notices          object\nlisting-id               object\nlisting-link             object\nlisting-link-href        object\nlisting-availability     object\nlisting-posting-date     object\nlisting-address          object\nlisting-map-latitude    float64\nlisting-map-longitude   float64\nlisting-map-accuracy    float64",
      "text/html": "<div>\n<style scoped>\n    .dataframe tbody tr th:only-of-type {\n        vertical-align: middle;\n    }\n\n    .dataframe tbody tr th {\n        vertical-align: top;\n    }\n\n    .dataframe thead th {\n        text-align: right;\n    }\n</style>\n<table border=\"1\" class=\"dataframe\">\n  <thead>\n    <tr style=\"text-align: right;\">\n      <th></th>\n      <th>Data Type</th>\n    </tr>\n  </thead>\n  <tbody>\n    <tr>\n      <th>web-scraper-order</th>\n      <td>object</td>\n    </tr>\n    <tr>\n      <th>web-scraper-start-url</th>\n      <td>object</td>\n    </tr>\n    <tr>\n      <th>pagination</th>\n      <td>object</td>\n    </tr>\n    <tr>\n      <th>listing-title</th>\n      <td>object</td>\n    </tr>\n    <tr>\n      <th>listing-description</th>\n      <td>object</td>\n    </tr>\n    <tr>\n      <th>listing-housing-type</th>\n      <td>object</td>\n    </tr>\n    <tr>\n      <th>listing-features</th>\n      <td>object</td>\n    </tr>\n    <tr>\n      <th>listing-notices</th>\n      <td>object</td>\n    </tr>\n    <tr>\n      <th>listing-id</th>\n      <td>object</td>\n    </tr>\n    <tr>\n      <th>listing-link</th>\n      <td>object</td>\n    </tr>\n    <tr>\n      <th>listing-link-href</th>\n      <td>object</td>\n    </tr>\n    <tr>\n      <th>listing-availability</th>\n      <td>object</td>\n    </tr>\n    <tr>\n      <th>listing-posting-date</th>\n      <td>object</td>\n    </tr>\n    <tr>\n      <th>listing-address</th>\n      <td>object</td>\n    </tr>\n    <tr>\n      <th>listing-map-latitude</th>\n      <td>float64</td>\n    </tr>\n    <tr>\n      <th>listing-map-longitude</th>\n      <td>float64</td>\n    </tr>\n    <tr>\n      <th>listing-map-accuracy</th>\n      <td>float64</td>\n    </tr>\n  </tbody>\n</table>\n</div>"
     },
     "execution_count": 3,
     "metadata": {},
     "output_type": "execute_result"
    }
   ],
   "source": [
    "############################################### Creating a Data Quality Report ###############################################\n",
    "## Get the data types of each column of the dataset\n",
    "data_types = pd.DataFrame(\n",
    "    df_listings.dtypes,\n",
    "    columns=['Data Type']\n",
    ")\n",
    "data_types"
   ],
   "metadata": {
    "collapsed": false,
    "pycharm": {
     "name": "#%%\n"
    }
   }
  },
  {
   "cell_type": "code",
   "execution_count": 4,
   "outputs": [
    {
     "data": {
      "text/plain": "                       Total Values\nweb-scraper-order              2858\nweb-scraper-start-url          2858\npagination                     2751\nlisting-title                  2858\nlisting-description            2858\nlisting-housing-type           2858\nlisting-features               2858\nlisting-notices                2858\nlisting-id                     2858\nlisting-link                   2858\nlisting-link-href              2858\nlisting-availability           1534\nlisting-posting-date           2858\nlisting-address                2098\nlisting-map-latitude           2857\nlisting-map-longitude          2857\nlisting-map-accuracy           2857",
      "text/html": "<div>\n<style scoped>\n    .dataframe tbody tr th:only-of-type {\n        vertical-align: middle;\n    }\n\n    .dataframe tbody tr th {\n        vertical-align: top;\n    }\n\n    .dataframe thead th {\n        text-align: right;\n    }\n</style>\n<table border=\"1\" class=\"dataframe\">\n  <thead>\n    <tr style=\"text-align: right;\">\n      <th></th>\n      <th>Total Values</th>\n    </tr>\n  </thead>\n  <tbody>\n    <tr>\n      <th>web-scraper-order</th>\n      <td>2858</td>\n    </tr>\n    <tr>\n      <th>web-scraper-start-url</th>\n      <td>2858</td>\n    </tr>\n    <tr>\n      <th>pagination</th>\n      <td>2751</td>\n    </tr>\n    <tr>\n      <th>listing-title</th>\n      <td>2858</td>\n    </tr>\n    <tr>\n      <th>listing-description</th>\n      <td>2858</td>\n    </tr>\n    <tr>\n      <th>listing-housing-type</th>\n      <td>2858</td>\n    </tr>\n    <tr>\n      <th>listing-features</th>\n      <td>2858</td>\n    </tr>\n    <tr>\n      <th>listing-notices</th>\n      <td>2858</td>\n    </tr>\n    <tr>\n      <th>listing-id</th>\n      <td>2858</td>\n    </tr>\n    <tr>\n      <th>listing-link</th>\n      <td>2858</td>\n    </tr>\n    <tr>\n      <th>listing-link-href</th>\n      <td>2858</td>\n    </tr>\n    <tr>\n      <th>listing-availability</th>\n      <td>1534</td>\n    </tr>\n    <tr>\n      <th>listing-posting-date</th>\n      <td>2858</td>\n    </tr>\n    <tr>\n      <th>listing-address</th>\n      <td>2098</td>\n    </tr>\n    <tr>\n      <th>listing-map-latitude</th>\n      <td>2857</td>\n    </tr>\n    <tr>\n      <th>listing-map-longitude</th>\n      <td>2857</td>\n    </tr>\n    <tr>\n      <th>listing-map-accuracy</th>\n      <td>2857</td>\n    </tr>\n  </tbody>\n</table>\n</div>"
     },
     "execution_count": 4,
     "metadata": {},
     "output_type": "execute_result"
    }
   ],
   "source": [
    "## Get the total values in the each column\n",
    "total_values = pd.DataFrame(\n",
    "    df_listings.count(),\n",
    "    columns=['Total Values']\n",
    ")\n",
    "total_values"
   ],
   "metadata": {
    "collapsed": false,
    "pycharm": {
     "name": "#%%\n"
    }
   }
  },
  {
   "cell_type": "code",
   "execution_count": 5,
   "outputs": [
    {
     "data": {
      "text/plain": "                       Missing Values\nweb-scraper-order                   0\nweb-scraper-start-url               0\npagination                        107\nlisting-title                       0\nlisting-description                 0\nlisting-housing-type                0\nlisting-features                    0\nlisting-notices                     0\nlisting-id                          0\nlisting-link                        0\nlisting-link-href                   0\nlisting-availability             1324\nlisting-posting-date                0\nlisting-address                   760\nlisting-map-latitude                1\nlisting-map-longitude               1\nlisting-map-accuracy                1",
      "text/html": "<div>\n<style scoped>\n    .dataframe tbody tr th:only-of-type {\n        vertical-align: middle;\n    }\n\n    .dataframe tbody tr th {\n        vertical-align: top;\n    }\n\n    .dataframe thead th {\n        text-align: right;\n    }\n</style>\n<table border=\"1\" class=\"dataframe\">\n  <thead>\n    <tr style=\"text-align: right;\">\n      <th></th>\n      <th>Missing Values</th>\n    </tr>\n  </thead>\n  <tbody>\n    <tr>\n      <th>web-scraper-order</th>\n      <td>0</td>\n    </tr>\n    <tr>\n      <th>web-scraper-start-url</th>\n      <td>0</td>\n    </tr>\n    <tr>\n      <th>pagination</th>\n      <td>107</td>\n    </tr>\n    <tr>\n      <th>listing-title</th>\n      <td>0</td>\n    </tr>\n    <tr>\n      <th>listing-description</th>\n      <td>0</td>\n    </tr>\n    <tr>\n      <th>listing-housing-type</th>\n      <td>0</td>\n    </tr>\n    <tr>\n      <th>listing-features</th>\n      <td>0</td>\n    </tr>\n    <tr>\n      <th>listing-notices</th>\n      <td>0</td>\n    </tr>\n    <tr>\n      <th>listing-id</th>\n      <td>0</td>\n    </tr>\n    <tr>\n      <th>listing-link</th>\n      <td>0</td>\n    </tr>\n    <tr>\n      <th>listing-link-href</th>\n      <td>0</td>\n    </tr>\n    <tr>\n      <th>listing-availability</th>\n      <td>1324</td>\n    </tr>\n    <tr>\n      <th>listing-posting-date</th>\n      <td>0</td>\n    </tr>\n    <tr>\n      <th>listing-address</th>\n      <td>760</td>\n    </tr>\n    <tr>\n      <th>listing-map-latitude</th>\n      <td>1</td>\n    </tr>\n    <tr>\n      <th>listing-map-longitude</th>\n      <td>1</td>\n    </tr>\n    <tr>\n      <th>listing-map-accuracy</th>\n      <td>1</td>\n    </tr>\n  </tbody>\n</table>\n</div>"
     },
     "execution_count": 5,
     "metadata": {},
     "output_type": "execute_result"
    }
   ],
   "source": [
    "## Check total missing values in each column of the dataset\n",
    "missing_data = pd.DataFrame(\n",
    "    df_listings.isnull().sum(),\n",
    "    columns=['Missing Values']\n",
    ")\n",
    "missing_data"
   ],
   "metadata": {
    "collapsed": false,
    "pycharm": {
     "name": "#%%\n"
    }
   }
  },
  {
   "cell_type": "code",
   "execution_count": 6,
   "outputs": [
    {
     "data": {
      "text/plain": "                       Unique Values\nweb-scraper-order               2858\nweb-scraper-start-url              1\npagination                        24\nlisting-title                   2404\nlisting-description             2324\nlisting-housing-type              35\nlisting-features                 643\nlisting-notices                    2\nlisting-id                      2858\nlisting-link                    1680\nlisting-link-href               2858\nlisting-availability              58\nlisting-posting-date              35\nlisting-address                 1358\nlisting-map-latitude            1243\nlisting-map-longitude           1284\nlisting-map-accuracy               9",
      "text/html": "<div>\n<style scoped>\n    .dataframe tbody tr th:only-of-type {\n        vertical-align: middle;\n    }\n\n    .dataframe tbody tr th {\n        vertical-align: top;\n    }\n\n    .dataframe thead th {\n        text-align: right;\n    }\n</style>\n<table border=\"1\" class=\"dataframe\">\n  <thead>\n    <tr style=\"text-align: right;\">\n      <th></th>\n      <th>Unique Values</th>\n    </tr>\n  </thead>\n  <tbody>\n    <tr>\n      <th>web-scraper-order</th>\n      <td>2858</td>\n    </tr>\n    <tr>\n      <th>web-scraper-start-url</th>\n      <td>1</td>\n    </tr>\n    <tr>\n      <th>pagination</th>\n      <td>24</td>\n    </tr>\n    <tr>\n      <th>listing-title</th>\n      <td>2404</td>\n    </tr>\n    <tr>\n      <th>listing-description</th>\n      <td>2324</td>\n    </tr>\n    <tr>\n      <th>listing-housing-type</th>\n      <td>35</td>\n    </tr>\n    <tr>\n      <th>listing-features</th>\n      <td>643</td>\n    </tr>\n    <tr>\n      <th>listing-notices</th>\n      <td>2</td>\n    </tr>\n    <tr>\n      <th>listing-id</th>\n      <td>2858</td>\n    </tr>\n    <tr>\n      <th>listing-link</th>\n      <td>1680</td>\n    </tr>\n    <tr>\n      <th>listing-link-href</th>\n      <td>2858</td>\n    </tr>\n    <tr>\n      <th>listing-availability</th>\n      <td>58</td>\n    </tr>\n    <tr>\n      <th>listing-posting-date</th>\n      <td>35</td>\n    </tr>\n    <tr>\n      <th>listing-address</th>\n      <td>1358</td>\n    </tr>\n    <tr>\n      <th>listing-map-latitude</th>\n      <td>1243</td>\n    </tr>\n    <tr>\n      <th>listing-map-longitude</th>\n      <td>1284</td>\n    </tr>\n    <tr>\n      <th>listing-map-accuracy</th>\n      <td>9</td>\n    </tr>\n  </tbody>\n</table>\n</div>"
     },
     "execution_count": 6,
     "metadata": {},
     "output_type": "execute_result"
    }
   ],
   "source": [
    "## Check total unique values in each column of the dataset\n",
    "unique_values = pd.DataFrame(\n",
    "    df_listings.nunique(),\n",
    "    columns=['Unique Values']\n",
    ")\n",
    "unique_values"
   ],
   "metadata": {
    "collapsed": false,
    "pycharm": {
     "name": "#%%\n"
    }
   }
  },
  {
   "cell_type": "code",
   "execution_count": 7,
   "outputs": [
    {
     "data": {
      "text/plain": "                      Data Type  Total Values  Missing Values  Unique Values\nweb-scraper-order        object          2858               0           2858\nweb-scraper-start-url    object          2858               0              1\npagination               object          2751             107             24\nlisting-title            object          2858               0           2404\nlisting-description      object          2858               0           2324\nlisting-housing-type     object          2858               0             35\nlisting-features         object          2858               0            643\nlisting-notices          object          2858               0              2\nlisting-id               object          2858               0           2858\nlisting-link             object          2858               0           1680\nlisting-link-href        object          2858               0           2858\nlisting-availability     object          1534            1324             58\nlisting-posting-date     object          2858               0             35\nlisting-address          object          2098             760           1358\nlisting-map-latitude    float64          2857               1           1243\nlisting-map-longitude   float64          2857               1           1284\nlisting-map-accuracy    float64          2857               1              9",
      "text/html": "<div>\n<style scoped>\n    .dataframe tbody tr th:only-of-type {\n        vertical-align: middle;\n    }\n\n    .dataframe tbody tr th {\n        vertical-align: top;\n    }\n\n    .dataframe thead th {\n        text-align: right;\n    }\n</style>\n<table border=\"1\" class=\"dataframe\">\n  <thead>\n    <tr style=\"text-align: right;\">\n      <th></th>\n      <th>Data Type</th>\n      <th>Total Values</th>\n      <th>Missing Values</th>\n      <th>Unique Values</th>\n    </tr>\n  </thead>\n  <tbody>\n    <tr>\n      <th>web-scraper-order</th>\n      <td>object</td>\n      <td>2858</td>\n      <td>0</td>\n      <td>2858</td>\n    </tr>\n    <tr>\n      <th>web-scraper-start-url</th>\n      <td>object</td>\n      <td>2858</td>\n      <td>0</td>\n      <td>1</td>\n    </tr>\n    <tr>\n      <th>pagination</th>\n      <td>object</td>\n      <td>2751</td>\n      <td>107</td>\n      <td>24</td>\n    </tr>\n    <tr>\n      <th>listing-title</th>\n      <td>object</td>\n      <td>2858</td>\n      <td>0</td>\n      <td>2404</td>\n    </tr>\n    <tr>\n      <th>listing-description</th>\n      <td>object</td>\n      <td>2858</td>\n      <td>0</td>\n      <td>2324</td>\n    </tr>\n    <tr>\n      <th>listing-housing-type</th>\n      <td>object</td>\n      <td>2858</td>\n      <td>0</td>\n      <td>35</td>\n    </tr>\n    <tr>\n      <th>listing-features</th>\n      <td>object</td>\n      <td>2858</td>\n      <td>0</td>\n      <td>643</td>\n    </tr>\n    <tr>\n      <th>listing-notices</th>\n      <td>object</td>\n      <td>2858</td>\n      <td>0</td>\n      <td>2</td>\n    </tr>\n    <tr>\n      <th>listing-id</th>\n      <td>object</td>\n      <td>2858</td>\n      <td>0</td>\n      <td>2858</td>\n    </tr>\n    <tr>\n      <th>listing-link</th>\n      <td>object</td>\n      <td>2858</td>\n      <td>0</td>\n      <td>1680</td>\n    </tr>\n    <tr>\n      <th>listing-link-href</th>\n      <td>object</td>\n      <td>2858</td>\n      <td>0</td>\n      <td>2858</td>\n    </tr>\n    <tr>\n      <th>listing-availability</th>\n      <td>object</td>\n      <td>1534</td>\n      <td>1324</td>\n      <td>58</td>\n    </tr>\n    <tr>\n      <th>listing-posting-date</th>\n      <td>object</td>\n      <td>2858</td>\n      <td>0</td>\n      <td>35</td>\n    </tr>\n    <tr>\n      <th>listing-address</th>\n      <td>object</td>\n      <td>2098</td>\n      <td>760</td>\n      <td>1358</td>\n    </tr>\n    <tr>\n      <th>listing-map-latitude</th>\n      <td>float64</td>\n      <td>2857</td>\n      <td>1</td>\n      <td>1243</td>\n    </tr>\n    <tr>\n      <th>listing-map-longitude</th>\n      <td>float64</td>\n      <td>2857</td>\n      <td>1</td>\n      <td>1284</td>\n    </tr>\n    <tr>\n      <th>listing-map-accuracy</th>\n      <td>float64</td>\n      <td>2857</td>\n      <td>1</td>\n      <td>9</td>\n    </tr>\n  </tbody>\n</table>\n</div>"
     },
     "execution_count": 7,
     "metadata": {},
     "output_type": "execute_result"
    }
   ],
   "source": [
    "dq_report = data_types.join(total_values).join(missing_data).join(unique_values)\n",
    "dq_report"
   ],
   "metadata": {
    "collapsed": false,
    "pycharm": {
     "name": "#%%\n"
    }
   }
  },
  {
   "cell_type": "code",
   "execution_count": 8,
   "outputs": [
    {
     "name": "stdout",
     "output_type": "stream",
     "text": [
      "<class 'pandas.core.frame.DataFrame'>\n",
      "Int64Index: 2858 entries, 0 to 2857\n",
      "Data columns (total 1 columns):\n",
      " #   Column       Non-Null Count  Dtype \n",
      "---  ------       --------------  ----- \n",
      " 0   description  2858 non-null   object\n",
      "dtypes: object(1)\n",
      "memory usage: 44.7+ KB\n"
     ]
    },
    {
     "data": {
      "text/plain": "                                            description\n0     Apartment home available July 1st on Chicago’s...\n1     Call Apartment Guys at 773-549-3474 and ask fo...\n2     Contact me to learn more about an innovative L...\n3     PROPERTY INFO;ID: 232839975Rent: $3,500 / Mont...\n4     4535 N Paulina Unit #3D Chicago, IL 60640;Brig...\n...                                                 ...\n2853  Interested in this property?;Click on: Reply t...\n2854  We are conveniently located near Edens, Metra ...\n2855  Interested in this property?;Click on: Reply t...\n2856  PROPERTY INFO;ID: 237708192Rent: $3,147 / Mont...\n2857  1BR / 1Ba;apartment;No pets;No smoking;laundry...\n\n[2858 rows x 1 columns]",
      "text/html": "<div>\n<style scoped>\n    .dataframe tbody tr th:only-of-type {\n        vertical-align: middle;\n    }\n\n    .dataframe tbody tr th {\n        vertical-align: top;\n    }\n\n    .dataframe thead th {\n        text-align: right;\n    }\n</style>\n<table border=\"1\" class=\"dataframe\">\n  <thead>\n    <tr style=\"text-align: right;\">\n      <th></th>\n      <th>description</th>\n    </tr>\n  </thead>\n  <tbody>\n    <tr>\n      <th>0</th>\n      <td>Apartment home available July 1st on Chicago’s...</td>\n    </tr>\n    <tr>\n      <th>1</th>\n      <td>Call Apartment Guys at 773-549-3474 and ask fo...</td>\n    </tr>\n    <tr>\n      <th>2</th>\n      <td>Contact me to learn more about an innovative L...</td>\n    </tr>\n    <tr>\n      <th>3</th>\n      <td>PROPERTY INFO;ID: 232839975Rent: $3,500 / Mont...</td>\n    </tr>\n    <tr>\n      <th>4</th>\n      <td>4535 N Paulina Unit #3D Chicago, IL 60640;Brig...</td>\n    </tr>\n    <tr>\n      <th>...</th>\n      <td>...</td>\n    </tr>\n    <tr>\n      <th>2853</th>\n      <td>Interested in this property?;Click on: Reply t...</td>\n    </tr>\n    <tr>\n      <th>2854</th>\n      <td>We are conveniently located near Edens, Metra ...</td>\n    </tr>\n    <tr>\n      <th>2855</th>\n      <td>Interested in this property?;Click on: Reply t...</td>\n    </tr>\n    <tr>\n      <th>2856</th>\n      <td>PROPERTY INFO;ID: 237708192Rent: $3,147 / Mont...</td>\n    </tr>\n    <tr>\n      <th>2857</th>\n      <td>1BR / 1Ba;apartment;No pets;No smoking;laundry...</td>\n    </tr>\n  </tbody>\n</table>\n<p>2858 rows × 1 columns</p>\n</div>"
     },
     "execution_count": 8,
     "metadata": {},
     "output_type": "execute_result"
    }
   ],
   "source": [
    "# Get the listing-description fields from the data and Clean it\n",
    "# Removes the Prefix - \"QR Code Link to This Post\"\n",
    "# Removes line breaks and Extra Tabs and spaces and replaces them with semicolon \";\"\n",
    "\n",
    "import re\n",
    "\n",
    "# Creates regex patterns for newline, tabs and semicolon\n",
    "regex_newline = re.compile(r'\\n', flags=re.IGNORECASE)\n",
    "regex_tab = re.compile(r'(\\s{2,})', flags=re.IGNORECASE)\n",
    "regex_semicolon = re.compile(r';+', flags=re.IGNORECASE)\n",
    "\n",
    "# Apply the regex(s) to the \"listing-description\" field and generate new field \"description\"\n",
    "series_description = df_listings['listing-description'].str.replace(regex_newline, ';', regex=True)\n",
    "\n",
    "series_description = series_description.str.replace(regex_tab, '', regex=True)\n",
    "series_description = series_description.str.replace(regex_semicolon, ';', regex=True)\n",
    "regex_qr_code = re.compile(r'QR Code Link to This Post;', flags=re.IGNORECASE)\n",
    "series_description = series_description.str.replace(regex_qr_code, '', regex=True)\n",
    "series_description = series_description.str.strip()\n",
    "series_description = series_description.dropna(how='all', axis=0)\n",
    "df_description = pd.DataFrame()\n",
    "df_description['description'] = series_description\n",
    "# df_description.to_excel(\"data/description.xlsx\", index=False)\n",
    "df_description.info()\n",
    "df_description"
   ],
   "metadata": {
    "collapsed": false,
    "pycharm": {
     "name": "#%%\n"
    }
   }
  },
  {
   "cell_type": "code",
   "execution_count": 9,
   "outputs": [
    {
     "name": "stdout",
     "output_type": "stream",
     "text": [
      "<class 'pandas.core.frame.DataFrame'>\n",
      "RangeIndex: 2858 entries, 0 to 2857\n",
      "Data columns (total 1 columns):\n",
      " #   Column  Non-Null Count  Dtype \n",
      "---  ------  --------------  ----- \n",
      " 0   rent    2857 non-null   object\n",
      "dtypes: object(1)\n",
      "memory usage: 22.5+ KB\n"
     ]
    },
    {
     "data": {
      "text/plain": "       rent\n0     1795 \n1     1650 \n2     2860 \n3     3500 \n4     1225 \n...     ...\n2853  3685 \n2854  1400 \n2855  2250 \n2856  3147 \n2857  1295 \n\n[2858 rows x 1 columns]",
      "text/html": "<div>\n<style scoped>\n    .dataframe tbody tr th:only-of-type {\n        vertical-align: middle;\n    }\n\n    .dataframe tbody tr th {\n        vertical-align: top;\n    }\n\n    .dataframe thead th {\n        text-align: right;\n    }\n</style>\n<table border=\"1\" class=\"dataframe\">\n  <thead>\n    <tr style=\"text-align: right;\">\n      <th></th>\n      <th>rent</th>\n    </tr>\n  </thead>\n  <tbody>\n    <tr>\n      <th>0</th>\n      <td>1795</td>\n    </tr>\n    <tr>\n      <th>1</th>\n      <td>1650</td>\n    </tr>\n    <tr>\n      <th>2</th>\n      <td>2860</td>\n    </tr>\n    <tr>\n      <th>3</th>\n      <td>3500</td>\n    </tr>\n    <tr>\n      <th>4</th>\n      <td>1225</td>\n    </tr>\n    <tr>\n      <th>...</th>\n      <td>...</td>\n    </tr>\n    <tr>\n      <th>2853</th>\n      <td>3685</td>\n    </tr>\n    <tr>\n      <th>2854</th>\n      <td>1400</td>\n    </tr>\n    <tr>\n      <th>2855</th>\n      <td>2250</td>\n    </tr>\n    <tr>\n      <th>2856</th>\n      <td>3147</td>\n    </tr>\n    <tr>\n      <th>2857</th>\n      <td>1295</td>\n    </tr>\n  </tbody>\n</table>\n<p>2858 rows × 1 columns</p>\n</div>"
     },
     "execution_count": 9,
     "metadata": {},
     "output_type": "execute_result"
    }
   ],
   "source": [
    "# Get the listing-title fields from the data and Clean it\n",
    "# Removes Rent Amount, BedRoom, Footage, etc. from beginning and creates individual fields\n",
    "# listing-rent, listing-room-type and listing-footage\n",
    "# Note that when it says \"0BR\" on listing-housing-type, the title will not have the count of bedrooms\n",
    "\n",
    "df_title = pd.DataFrame(df_listings['listing-title'])\n",
    "# listing_title.info()\n",
    "# listing_title\n",
    "\n",
    "\n",
    "# Creates regex patterns for Rent amount and create dataframe listing-rent\n",
    "regex_rent = re.compile(r'(\\$\\d+\\,*\\d+\\s)', flags=re.IGNORECASE)\n",
    "\n",
    "# Apply the regex(s) to the \"listing-title\" field and generate new field \"description\"\n",
    "df_rent = df_title['listing-title'].str.extract(regex_rent, expand=True)\n",
    "df_rent.columns = ['rent']\n",
    "df_rent.info()\n",
    "df_rent['rent'] = df_rent['rent'].str.replace(r'\\$|\\,', '', regex=True)\n",
    "df_rent"
   ],
   "metadata": {
    "collapsed": false,
    "pycharm": {
     "name": "#%%\n"
    }
   }
  },
  {
   "cell_type": "code",
   "execution_count": 10,
   "outputs": [
    {
     "name": "stdout",
     "output_type": "stream",
     "text": [
      "<class 'pandas.core.frame.DataFrame'>\n",
      "RangeIndex: 2858 entries, 0 to 2857\n",
      "Data columns (total 1 columns):\n",
      " #   Column  Non-Null Count  Dtype \n",
      "---  ------  --------------  ----- \n",
      " 0   type    2768 non-null   object\n",
      "dtypes: object(1)\n",
      "memory usage: 22.5+ KB\n"
     ]
    },
    {
     "name": "stderr",
     "output_type": "stream",
     "text": [
      "/var/folders/9t/fx1d82y17ld65ll42bk27zz40000gn/T/ipykernel_14461/707470602.py:10: FutureWarning: The default value of regex will change from True to False in a future version.\n",
      "  df_room_type['type'] = df_room_type['type'].str.replace(r'(?i)studio', 'STUDIO')\n"
     ]
    },
    {
     "data": {
      "text/plain": "             type\n0     1 Bed Room \n1     1 Bed Room \n2     4 Bed Room \n3     2 Bed Room \n4     1 Bed Room \n...           ...\n2853  2 Bed Room \n2854  1 Bed Room \n2855  1 Bed Room \n2856  3 Bed Room \n2857  1 Bed Room \n\n[2858 rows x 1 columns]",
      "text/html": "<div>\n<style scoped>\n    .dataframe tbody tr th:only-of-type {\n        vertical-align: middle;\n    }\n\n    .dataframe tbody tr th {\n        vertical-align: top;\n    }\n\n    .dataframe thead th {\n        text-align: right;\n    }\n</style>\n<table border=\"1\" class=\"dataframe\">\n  <thead>\n    <tr style=\"text-align: right;\">\n      <th></th>\n      <th>type</th>\n    </tr>\n  </thead>\n  <tbody>\n    <tr>\n      <th>0</th>\n      <td>1 Bed Room</td>\n    </tr>\n    <tr>\n      <th>1</th>\n      <td>1 Bed Room</td>\n    </tr>\n    <tr>\n      <th>2</th>\n      <td>4 Bed Room</td>\n    </tr>\n    <tr>\n      <th>3</th>\n      <td>2 Bed Room</td>\n    </tr>\n    <tr>\n      <th>4</th>\n      <td>1 Bed Room</td>\n    </tr>\n    <tr>\n      <th>...</th>\n      <td>...</td>\n    </tr>\n    <tr>\n      <th>2853</th>\n      <td>2 Bed Room</td>\n    </tr>\n    <tr>\n      <th>2854</th>\n      <td>1 Bed Room</td>\n    </tr>\n    <tr>\n      <th>2855</th>\n      <td>1 Bed Room</td>\n    </tr>\n    <tr>\n      <th>2856</th>\n      <td>3 Bed Room</td>\n    </tr>\n    <tr>\n      <th>2857</th>\n      <td>1 Bed Room</td>\n    </tr>\n  </tbody>\n</table>\n<p>2858 rows × 1 columns</p>\n</div>"
     },
     "execution_count": 10,
     "metadata": {},
     "output_type": "execute_result"
    }
   ],
   "source": [
    "# Creates regex patterns for Room Type and create dataframe listing-room-type\n",
    "# It checks for either 1 or more Bed Room / Studio type\n",
    "regex_room_type = re.compile(r'(\\d*br\\s|studio|\\d+\\s*bed)', flags=re.IGNORECASE)\n",
    "\n",
    "# Apply the regex(s) to the \"listing-title\" field and generate new field \"description\"\n",
    "df_room_type = df_listings['listing-title'].str.extract(regex_room_type, expand=True)\n",
    "df_room_type.columns = ['type']\n",
    "df_room_type.info()\n",
    "df_room_type['type'] = df_room_type['type'].str.replace('br', ' Bed Room')\n",
    "df_room_type['type'] = df_room_type['type'].str.replace(r'(?i)studio', 'STUDIO')\n",
    "df_room_type"
   ],
   "metadata": {
    "collapsed": false,
    "pycharm": {
     "name": "#%%\n"
    }
   }
  },
  {
   "cell_type": "code",
   "execution_count": 11,
   "outputs": [
    {
     "name": "stdout",
     "output_type": "stream",
     "text": [
      "<class 'pandas.core.frame.DataFrame'>\n",
      "RangeIndex: 2858 entries, 0 to 2857\n",
      "Data columns (total 1 columns):\n",
      " #   Column   Non-Null Count  Dtype \n",
      "---  ------   --------------  ----- \n",
      " 0   footage  1034 non-null   object\n",
      "dtypes: object(1)\n",
      "memory usage: 22.5+ KB\n"
     ]
    },
    {
     "data": {
      "text/plain": "     footage\n0        NaN\n1        NaN\n2     2213ft\n3        NaN\n4        NaN\n...      ...\n2853     NaN\n2854     NaN\n2855     NaN\n2856     NaN\n2857     NaN\n\n[2858 rows x 1 columns]",
      "text/html": "<div>\n<style scoped>\n    .dataframe tbody tr th:only-of-type {\n        vertical-align: middle;\n    }\n\n    .dataframe tbody tr th {\n        vertical-align: top;\n    }\n\n    .dataframe thead th {\n        text-align: right;\n    }\n</style>\n<table border=\"1\" class=\"dataframe\">\n  <thead>\n    <tr style=\"text-align: right;\">\n      <th></th>\n      <th>footage</th>\n    </tr>\n  </thead>\n  <tbody>\n    <tr>\n      <th>0</th>\n      <td>NaN</td>\n    </tr>\n    <tr>\n      <th>1</th>\n      <td>NaN</td>\n    </tr>\n    <tr>\n      <th>2</th>\n      <td>2213ft</td>\n    </tr>\n    <tr>\n      <th>3</th>\n      <td>NaN</td>\n    </tr>\n    <tr>\n      <th>4</th>\n      <td>NaN</td>\n    </tr>\n    <tr>\n      <th>...</th>\n      <td>...</td>\n    </tr>\n    <tr>\n      <th>2853</th>\n      <td>NaN</td>\n    </tr>\n    <tr>\n      <th>2854</th>\n      <td>NaN</td>\n    </tr>\n    <tr>\n      <th>2855</th>\n      <td>NaN</td>\n    </tr>\n    <tr>\n      <th>2856</th>\n      <td>NaN</td>\n    </tr>\n    <tr>\n      <th>2857</th>\n      <td>NaN</td>\n    </tr>\n  </tbody>\n</table>\n<p>2858 rows × 1 columns</p>\n</div>"
     },
     "execution_count": 11,
     "metadata": {},
     "output_type": "execute_result"
    }
   ],
   "source": [
    "# Creates regex patterns for footage and create dataframe listing-footage\n",
    "regex_footage = re.compile(r'(\\d+\\s*ft)', flags=re.IGNORECASE)\n",
    "\n",
    "# Apply the regex(s) to the \"listing-title\" field and generate new field \"description\"\n",
    "df_footage = df_listings['listing-title'].str.extract(regex_footage, expand=True)\n",
    "df_footage.columns = ['footage']\n",
    "df_footage.info()\n",
    "df_footage\n",
    "# df = df_footage.join(df_rent).join(df_room_type)\n",
    "# df\n",
    "# df_footage.isna().sum()\n",
    "# df_footage.count()"
   ],
   "metadata": {
    "collapsed": false,
    "pycharm": {
     "name": "#%%\n"
    }
   }
  },
  {
   "cell_type": "code",
   "execution_count": 12,
   "outputs": [
    {
     "data": {
      "text/plain": "       rent         type footage  \\\n0     1795   1 Bed Room      NaN   \n1     1650   1 Bed Room      NaN   \n2     2860   4 Bed Room   2213ft   \n3     3500   2 Bed Room      NaN   \n4     1225   1 Bed Room      NaN   \n...     ...          ...     ...   \n2853  3685   2 Bed Room      NaN   \n2854  1400   1 Bed Room      NaN   \n2855  2250   1 Bed Room      NaN   \n2856  3147   3 Bed Room      NaN   \n2857  1295   1 Bed Room      NaN   \n\n                                            description  \n0     Apartment home available July 1st on Chicago’s...  \n1     Call Apartment Guys at 773-549-3474 and ask fo...  \n2     Contact me to learn more about an innovative L...  \n3     PROPERTY INFO;ID: 232839975Rent: $3,500 / Mont...  \n4     4535 N Paulina Unit #3D Chicago, IL 60640;Brig...  \n...                                                 ...  \n2853  Interested in this property?;Click on: Reply t...  \n2854  We are conveniently located near Edens, Metra ...  \n2855  Interested in this property?;Click on: Reply t...  \n2856  PROPERTY INFO;ID: 237708192Rent: $3,147 / Mont...  \n2857  1BR / 1Ba;apartment;No pets;No smoking;laundry...  \n\n[2858 rows x 4 columns]",
      "text/html": "<div>\n<style scoped>\n    .dataframe tbody tr th:only-of-type {\n        vertical-align: middle;\n    }\n\n    .dataframe tbody tr th {\n        vertical-align: top;\n    }\n\n    .dataframe thead th {\n        text-align: right;\n    }\n</style>\n<table border=\"1\" class=\"dataframe\">\n  <thead>\n    <tr style=\"text-align: right;\">\n      <th></th>\n      <th>rent</th>\n      <th>type</th>\n      <th>footage</th>\n      <th>description</th>\n    </tr>\n  </thead>\n  <tbody>\n    <tr>\n      <th>0</th>\n      <td>1795</td>\n      <td>1 Bed Room</td>\n      <td>NaN</td>\n      <td>Apartment home available July 1st on Chicago’s...</td>\n    </tr>\n    <tr>\n      <th>1</th>\n      <td>1650</td>\n      <td>1 Bed Room</td>\n      <td>NaN</td>\n      <td>Call Apartment Guys at 773-549-3474 and ask fo...</td>\n    </tr>\n    <tr>\n      <th>2</th>\n      <td>2860</td>\n      <td>4 Bed Room</td>\n      <td>2213ft</td>\n      <td>Contact me to learn more about an innovative L...</td>\n    </tr>\n    <tr>\n      <th>3</th>\n      <td>3500</td>\n      <td>2 Bed Room</td>\n      <td>NaN</td>\n      <td>PROPERTY INFO;ID: 232839975Rent: $3,500 / Mont...</td>\n    </tr>\n    <tr>\n      <th>4</th>\n      <td>1225</td>\n      <td>1 Bed Room</td>\n      <td>NaN</td>\n      <td>4535 N Paulina Unit #3D Chicago, IL 60640;Brig...</td>\n    </tr>\n    <tr>\n      <th>...</th>\n      <td>...</td>\n      <td>...</td>\n      <td>...</td>\n      <td>...</td>\n    </tr>\n    <tr>\n      <th>2853</th>\n      <td>3685</td>\n      <td>2 Bed Room</td>\n      <td>NaN</td>\n      <td>Interested in this property?;Click on: Reply t...</td>\n    </tr>\n    <tr>\n      <th>2854</th>\n      <td>1400</td>\n      <td>1 Bed Room</td>\n      <td>NaN</td>\n      <td>We are conveniently located near Edens, Metra ...</td>\n    </tr>\n    <tr>\n      <th>2855</th>\n      <td>2250</td>\n      <td>1 Bed Room</td>\n      <td>NaN</td>\n      <td>Interested in this property?;Click on: Reply t...</td>\n    </tr>\n    <tr>\n      <th>2856</th>\n      <td>3147</td>\n      <td>3 Bed Room</td>\n      <td>NaN</td>\n      <td>PROPERTY INFO;ID: 237708192Rent: $3,147 / Mont...</td>\n    </tr>\n    <tr>\n      <th>2857</th>\n      <td>1295</td>\n      <td>1 Bed Room</td>\n      <td>NaN</td>\n      <td>1BR / 1Ba;apartment;No pets;No smoking;laundry...</td>\n    </tr>\n  </tbody>\n</table>\n<p>2858 rows × 4 columns</p>\n</div>"
     },
     "execution_count": 12,
     "metadata": {},
     "output_type": "execute_result"
    }
   ],
   "source": [
    "# df_rent.info()\n",
    "df = df_rent.join(df_room_type).join(df_footage).join(df_description)\n",
    "df"
   ],
   "metadata": {
    "collapsed": false,
    "pycharm": {
     "name": "#%%\n"
    }
   }
  },
  {
   "cell_type": "code",
   "execution_count": 13,
   "outputs": [
    {
     "name": "stdout",
     "output_type": "stream",
     "text": [
      "<class 'pandas.core.frame.DataFrame'>\n",
      "RangeIndex: 2858 entries, 0 to 2857\n",
      "Data columns (total 1 columns):\n",
      " #   Column            Non-Null Count  Dtype \n",
      "---  ------            --------------  ----- \n",
      " 0   listing-features  2858 non-null   object\n",
      "dtypes: object(1)\n",
      "memory usage: 22.5+ KB\n"
     ]
    }
   ],
   "source": [
    "# Get the listing-features fields from the data and Clean it\n",
    "# Separate the various features of the listing into individual columns\n",
    "\n",
    "df_features = pd.DataFrame(df_listings['listing-features'])\n",
    "df_features.info()"
   ],
   "metadata": {
    "collapsed": false,
    "pycharm": {
     "name": "#%%\n"
    }
   }
  },
  {
   "cell_type": "code",
   "execution_count": 103,
   "outputs": [
    {
     "name": "stderr",
     "output_type": "stream",
     "text": [
      "/var/folders/9t/fx1d82y17ld65ll42bk27zz40000gn/T/ipykernel_14461/354105529.py:47: UserWarning: This pattern is interpreted as a regular expression, and has match groups. To actually get the groups, use str.extract.\n",
      "  df_smoking = pd.DataFrame(df_features['listing-features'].str.contains(regex_smoking, regex=True))\n"
     ]
    },
    {
     "data": {
      "text/plain": "     Application Fees\n0                 NaN\n1                 NaN\n2                 $90\n3                 NaN\n4                 NaN\n...               ...\n2853              NaN\n2854              NaN\n2855              NaN\n2856              NaN\n2857              $40\n\n[2858 rows x 1 columns]",
      "text/html": "<div>\n<style scoped>\n    .dataframe tbody tr th:only-of-type {\n        vertical-align: middle;\n    }\n\n    .dataframe tbody tr th {\n        vertical-align: top;\n    }\n\n    .dataframe thead th {\n        text-align: right;\n    }\n</style>\n<table border=\"1\" class=\"dataframe\">\n  <thead>\n    <tr style=\"text-align: right;\">\n      <th></th>\n      <th>Application Fees</th>\n    </tr>\n  </thead>\n  <tbody>\n    <tr>\n      <th>0</th>\n      <td>NaN</td>\n    </tr>\n    <tr>\n      <th>1</th>\n      <td>NaN</td>\n    </tr>\n    <tr>\n      <th>2</th>\n      <td>$90</td>\n    </tr>\n    <tr>\n      <th>3</th>\n      <td>NaN</td>\n    </tr>\n    <tr>\n      <th>4</th>\n      <td>NaN</td>\n    </tr>\n    <tr>\n      <th>...</th>\n      <td>...</td>\n    </tr>\n    <tr>\n      <th>2853</th>\n      <td>NaN</td>\n    </tr>\n    <tr>\n      <th>2854</th>\n      <td>NaN</td>\n    </tr>\n    <tr>\n      <th>2855</th>\n      <td>NaN</td>\n    </tr>\n    <tr>\n      <th>2856</th>\n      <td>NaN</td>\n    </tr>\n    <tr>\n      <th>2857</th>\n      <td>$40</td>\n    </tr>\n  </tbody>\n</table>\n<p>2858 rows × 1 columns</p>\n</div>"
     },
     "execution_count": 103,
     "metadata": {},
     "output_type": "execute_result"
    }
   ],
   "source": [
    "# Creates REGEX patterns for various features\n",
    "\n",
    "# LISTING TYPE\n",
    "regex_listing_type = re.compile(r'(house|apartment|duplex|flat|condo|townhouse|loft)|(?:open house)', flags=re.IGNORECASE)\n",
    "\n",
    "# CATs Allowed\n",
    "regex_cats_allowed = re.compile(r'(cats are OK)', flags=re.IGNORECASE)\n",
    "\n",
    "# Dogs Allowed\n",
    "regex_dogs_allowed = re.compile(r'(dogs are OK)', flags=re.IGNORECASE)\n",
    "\n",
    "# LAUNDRY TYPE\n",
    "regex_laundry = re.compile(r'(w/d in unit|w/d hookups|laundry in bldg|no laundry on site|laundry on site)', flags=re.IGNORECASE)\n",
    "\n",
    "# GARAGE\n",
    "regex_parking = re.compile(r'(attached garage|detached garage|no parking|off-street parking|street parking|carport|valet parking)', flags=re.IGNORECASE)\n",
    "\n",
    "# RENT PERIOD\n",
    "regex_rent_period = re.compile(r'(monthly|weekly)', flags=re.IGNORECASE)\n",
    "\n",
    "# SMOKING\n",
    "regex_smoking = re.compile(r'(\\w+.smoking)', flags=re.IGNORECASE)\n",
    "\n",
    "# APPLICATION FEES\n",
    "regex_app_fees = re.compile(r'(\\$\\d+)', flags=re.IGNORECASE)\n",
    "\n",
    "\n",
    "df_listing_type = df_features['listing-features'].str.extract(regex_listing_type)\n",
    "df_listing_type.columns = ['Listing Type']\n",
    "\n",
    "df_cats = pd.DataFrame(df_features['listing-features'].str.contains('cats are OK', regex=True, flags=re.IGNORECASE, ))\n",
    "df_cats.columns=['Cats Allowed']\n",
    "\n",
    "df_dogs = pd.DataFrame(df_features['listing-features'].str.contains('dogs are OK', regex=True, flags=re.IGNORECASE, ))\n",
    "df_dogs.columns=['Dogs Allowed']\n",
    "\n",
    "\n",
    "df_laundry = df_features['listing-features'].str.extract(regex_laundry, expand=True)\n",
    "df_laundry.columns = ['Laundry Type']\n",
    "\n",
    "df_parking = df_features['listing-features'].str.extract(regex_parking, expand=True)\n",
    "df_parking.columns = ['Parking Type']\n",
    "\n",
    "df_rent_period = df_features['listing-features'].str.extract(regex_rent_period, expand=True)\n",
    "df_rent_period.columns = ['Rent Period']\n",
    "\n",
    "df_smoking = pd.DataFrame(df_features['listing-features'].str.contains(regex_smoking, regex=True))\n",
    "df_smoking.columns = ['No Smoking']\n",
    "\n",
    "df_app_fees = df_features['listing-features'].str.extract(regex_app_fees, expand=True)\n",
    "df_app_fees.columns = ['Application Fees']\n",
    "\n",
    "df_app_fees"
   ],
   "metadata": {
    "collapsed": false,
    "pycharm": {
     "name": "#%%\n"
    }
   }
  },
  {
   "cell_type": "code",
   "execution_count": 106,
   "outputs": [],
   "source": [
    "# np.where(df_app_fees[0].isna() == True)[0]"
   ],
   "metadata": {
    "collapsed": false,
    "pycharm": {
     "name": "#%%\n"
    }
   }
  },
  {
   "cell_type": "code",
   "execution_count": 107,
   "outputs": [
    {
     "data": {
      "text/plain": "     listing-housing-type\n0               1BR / 1Ba\n1               1BR / 1Ba\n2             4BR / 2.5Ba\n3               2BR / 2Ba\n4               1BR / 1Ba\n...                   ...\n2853            2BR / 2Ba\n2854            1BR / 1Ba\n2855            1BR / 1Ba\n2856            3BR / 2Ba\n2857            1BR / 1Ba\n\n[2858 rows x 1 columns]",
      "text/html": "<div>\n<style scoped>\n    .dataframe tbody tr th:only-of-type {\n        vertical-align: middle;\n    }\n\n    .dataframe tbody tr th {\n        vertical-align: top;\n    }\n\n    .dataframe thead th {\n        text-align: right;\n    }\n</style>\n<table border=\"1\" class=\"dataframe\">\n  <thead>\n    <tr style=\"text-align: right;\">\n      <th></th>\n      <th>listing-housing-type</th>\n    </tr>\n  </thead>\n  <tbody>\n    <tr>\n      <th>0</th>\n      <td>1BR / 1Ba</td>\n    </tr>\n    <tr>\n      <th>1</th>\n      <td>1BR / 1Ba</td>\n    </tr>\n    <tr>\n      <th>2</th>\n      <td>4BR / 2.5Ba</td>\n    </tr>\n    <tr>\n      <th>3</th>\n      <td>2BR / 2Ba</td>\n    </tr>\n    <tr>\n      <th>4</th>\n      <td>1BR / 1Ba</td>\n    </tr>\n    <tr>\n      <th>...</th>\n      <td>...</td>\n    </tr>\n    <tr>\n      <th>2853</th>\n      <td>2BR / 2Ba</td>\n    </tr>\n    <tr>\n      <th>2854</th>\n      <td>1BR / 1Ba</td>\n    </tr>\n    <tr>\n      <th>2855</th>\n      <td>1BR / 1Ba</td>\n    </tr>\n    <tr>\n      <th>2856</th>\n      <td>3BR / 2Ba</td>\n    </tr>\n    <tr>\n      <th>2857</th>\n      <td>1BR / 1Ba</td>\n    </tr>\n  </tbody>\n</table>\n<p>2858 rows × 1 columns</p>\n</div>"
     },
     "execution_count": 107,
     "metadata": {},
     "output_type": "execute_result"
    }
   ],
   "source": [
    "# Get the listing-housing-type fields from the data and Clean it\n",
    "# Separate Number of BedRooms and Bathrooms of the listing into individual columns\n",
    "\n",
    "df_housing_type = pd.DataFrame(df_listings['listing-housing-type'])\n",
    "df_housing_type"
   ],
   "metadata": {
    "collapsed": false,
    "pycharm": {
     "name": "#%%\n"
    }
   }
  },
  {
   "cell_type": "code",
   "execution_count": 108,
   "outputs": [
    {
     "data": {
      "text/plain": "     Total Bed Rooms Total Baths\n0                  1           1\n1                  1           1\n2                  4         2.5\n3                  2           2\n4                  1           1\n...              ...         ...\n2853               2           2\n2854               1           1\n2855               1           1\n2856               3           2\n2857               1           1\n\n[2858 rows x 2 columns]",
      "text/html": "<div>\n<style scoped>\n    .dataframe tbody tr th:only-of-type {\n        vertical-align: middle;\n    }\n\n    .dataframe tbody tr th {\n        vertical-align: top;\n    }\n\n    .dataframe thead th {\n        text-align: right;\n    }\n</style>\n<table border=\"1\" class=\"dataframe\">\n  <thead>\n    <tr style=\"text-align: right;\">\n      <th></th>\n      <th>Total Bed Rooms</th>\n      <th>Total Baths</th>\n    </tr>\n  </thead>\n  <tbody>\n    <tr>\n      <th>0</th>\n      <td>1</td>\n      <td>1</td>\n    </tr>\n    <tr>\n      <th>1</th>\n      <td>1</td>\n      <td>1</td>\n    </tr>\n    <tr>\n      <th>2</th>\n      <td>4</td>\n      <td>2.5</td>\n    </tr>\n    <tr>\n      <th>3</th>\n      <td>2</td>\n      <td>2</td>\n    </tr>\n    <tr>\n      <th>4</th>\n      <td>1</td>\n      <td>1</td>\n    </tr>\n    <tr>\n      <th>...</th>\n      <td>...</td>\n      <td>...</td>\n    </tr>\n    <tr>\n      <th>2853</th>\n      <td>2</td>\n      <td>2</td>\n    </tr>\n    <tr>\n      <th>2854</th>\n      <td>1</td>\n      <td>1</td>\n    </tr>\n    <tr>\n      <th>2855</th>\n      <td>1</td>\n      <td>1</td>\n    </tr>\n    <tr>\n      <th>2856</th>\n      <td>3</td>\n      <td>2</td>\n    </tr>\n    <tr>\n      <th>2857</th>\n      <td>1</td>\n      <td>1</td>\n    </tr>\n  </tbody>\n</table>\n<p>2858 rows × 2 columns</p>\n</div>"
     },
     "execution_count": 108,
     "metadata": {},
     "output_type": "execute_result"
    }
   ],
   "source": [
    "# BED ROOMS\n",
    "regex_bedrooms = re.compile(r'(\\d+(?=br))', flags=re.IGNORECASE)\n",
    "\n",
    "# BATH\n",
    "regex_baths = re.compile(r'(\\d*\\.*\\d*(?=ba))', flags=re.IGNORECASE)\n",
    "\n",
    "df_bedrooms = df_housing_type['listing-housing-type'].str.extract(regex_bedrooms, expand=True)\n",
    "df_baths = df_housing_type['listing-housing-type'].str.extract(regex_baths, expand=True)\n",
    "\n",
    "\n",
    "df_bedrooms.columns = ['Total Bed Rooms']\n",
    "df_baths.columns = ['Total Baths']\n",
    "df_housing_type = df_bedrooms.join(df_baths)\n",
    "df_housing_type"
   ],
   "metadata": {
    "collapsed": false,
    "pycharm": {
     "name": "#%%\n"
    }
   }
  },
  {
   "cell_type": "markdown",
   "source": [],
   "metadata": {
    "collapsed": false,
    "pycharm": {
     "name": "#%% md\n"
    }
   }
  }
 ],
 "metadata": {
  "kernelspec": {
   "display_name": "Python 3",
   "language": "python",
   "name": "python3"
  },
  "language_info": {
   "codemirror_mode": {
    "name": "ipython",
    "version": 2
   },
   "file_extension": ".py",
   "mimetype": "text/x-python",
   "name": "python",
   "nbconvert_exporter": "python",
   "pygments_lexer": "ipython2",
   "version": "2.7.6"
  }
 },
 "nbformat": 4,
 "nbformat_minor": 0
}