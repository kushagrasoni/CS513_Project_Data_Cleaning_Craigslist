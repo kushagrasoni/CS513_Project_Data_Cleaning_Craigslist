{
 "cells": [
  {
   "cell_type": "code",
   "execution_count": 1,
   "outputs": [],
   "source": [
    "import pandas as pd\n",
    "import numpy as np"
   ],
   "metadata": {
    "collapsed": false,
    "pycharm": {
     "name": "#%%\n"
    }
   }
  },
  {
   "cell_type": "code",
   "execution_count": 2,
   "outputs": [
    {
     "name": "stdout",
     "output_type": "stream",
     "text": [
      "<class 'pandas.core.frame.DataFrame'>\n",
      "RangeIndex: 2858 entries, 0 to 2857\n",
      "Data columns (total 17 columns):\n",
      " #   Column                 Non-Null Count  Dtype  \n",
      "---  ------                 --------------  -----  \n",
      " 0   web-scraper-order      2858 non-null   object \n",
      " 1   web-scraper-start-url  2858 non-null   object \n",
      " 2   pagination             2751 non-null   object \n",
      " 3   listing-title          2858 non-null   object \n",
      " 4   listing-description    2858 non-null   object \n",
      " 5   listing-housing-type   2858 non-null   object \n",
      " 6   listing-features       2858 non-null   object \n",
      " 7   listing-notices        2858 non-null   object \n",
      " 8   listing-id             2858 non-null   object \n",
      " 9   listing-link           2858 non-null   object \n",
      " 10  listing-link-href      2858 non-null   object \n",
      " 11  listing-availability   1534 non-null   object \n",
      " 12  listing-posting-date   2858 non-null   object \n",
      " 13  listing-address        2098 non-null   object \n",
      " 14  listing-map-latitude   2857 non-null   float64\n",
      " 15  listing-map-longitude  2857 non-null   float64\n",
      " 16  listing-map-accuracy   2857 non-null   float64\n",
      "dtypes: float64(3), object(14)\n",
      "memory usage: 379.7+ KB\n"
     ]
    }
   ],
   "source": [
    "data_file = \"data/project-dataset-final.xlsx\"\n",
    "data = pd.read_excel(data_file, index_col=None)\n",
    "data.info()"
   ],
   "metadata": {
    "collapsed": false,
    "pycharm": {
     "name": "#%%\n"
    }
   }
  },
  {
   "cell_type": "code",
   "execution_count": 3,
   "outputs": [
    {
     "data": {
      "text/plain": "                      Data Type\nweb-scraper-order        object\nweb-scraper-start-url    object\npagination               object\nlisting-title            object\nlisting-description      object\nlisting-housing-type     object\nlisting-features         object\nlisting-notices          object\nlisting-id               object\nlisting-link             object\nlisting-link-href        object\nlisting-availability     object\nlisting-posting-date     object\nlisting-address          object\nlisting-map-latitude    float64\nlisting-map-longitude   float64\nlisting-map-accuracy    float64",
      "text/html": "<div>\n<style scoped>\n    .dataframe tbody tr th:only-of-type {\n        vertical-align: middle;\n    }\n\n    .dataframe tbody tr th {\n        vertical-align: top;\n    }\n\n    .dataframe thead th {\n        text-align: right;\n    }\n</style>\n<table border=\"1\" class=\"dataframe\">\n  <thead>\n    <tr style=\"text-align: right;\">\n      <th></th>\n      <th>Data Type</th>\n    </tr>\n  </thead>\n  <tbody>\n    <tr>\n      <th>web-scraper-order</th>\n      <td>object</td>\n    </tr>\n    <tr>\n      <th>web-scraper-start-url</th>\n      <td>object</td>\n    </tr>\n    <tr>\n      <th>pagination</th>\n      <td>object</td>\n    </tr>\n    <tr>\n      <th>listing-title</th>\n      <td>object</td>\n    </tr>\n    <tr>\n      <th>listing-description</th>\n      <td>object</td>\n    </tr>\n    <tr>\n      <th>listing-housing-type</th>\n      <td>object</td>\n    </tr>\n    <tr>\n      <th>listing-features</th>\n      <td>object</td>\n    </tr>\n    <tr>\n      <th>listing-notices</th>\n      <td>object</td>\n    </tr>\n    <tr>\n      <th>listing-id</th>\n      <td>object</td>\n    </tr>\n    <tr>\n      <th>listing-link</th>\n      <td>object</td>\n    </tr>\n    <tr>\n      <th>listing-link-href</th>\n      <td>object</td>\n    </tr>\n    <tr>\n      <th>listing-availability</th>\n      <td>object</td>\n    </tr>\n    <tr>\n      <th>listing-posting-date</th>\n      <td>object</td>\n    </tr>\n    <tr>\n      <th>listing-address</th>\n      <td>object</td>\n    </tr>\n    <tr>\n      <th>listing-map-latitude</th>\n      <td>float64</td>\n    </tr>\n    <tr>\n      <th>listing-map-longitude</th>\n      <td>float64</td>\n    </tr>\n    <tr>\n      <th>listing-map-accuracy</th>\n      <td>float64</td>\n    </tr>\n  </tbody>\n</table>\n</div>"
     },
     "execution_count": 3,
     "metadata": {},
     "output_type": "execute_result"
    }
   ],
   "source": [
    "############################################### Creating a Data Quality Report ###############################################\n",
    "## Get the data types of each column of the dataset\n",
    "data_types = pd.DataFrame(\n",
    "    data.dtypes,\n",
    "    columns=['Data Type']\n",
    ")\n",
    "data_types"
   ],
   "metadata": {
    "collapsed": false,
    "pycharm": {
     "name": "#%%\n"
    }
   }
  },
  {
   "cell_type": "code",
   "execution_count": 4,
   "outputs": [
    {
     "data": {
      "text/plain": "                       Total Values\nweb-scraper-order              2858\nweb-scraper-start-url          2858\npagination                     2751\nlisting-title                  2858\nlisting-description            2858\nlisting-housing-type           2858\nlisting-features               2858\nlisting-notices                2858\nlisting-id                     2858\nlisting-link                   2858\nlisting-link-href              2858\nlisting-availability           1534\nlisting-posting-date           2858\nlisting-address                2098\nlisting-map-latitude           2857\nlisting-map-longitude          2857\nlisting-map-accuracy           2857",
      "text/html": "<div>\n<style scoped>\n    .dataframe tbody tr th:only-of-type {\n        vertical-align: middle;\n    }\n\n    .dataframe tbody tr th {\n        vertical-align: top;\n    }\n\n    .dataframe thead th {\n        text-align: right;\n    }\n</style>\n<table border=\"1\" class=\"dataframe\">\n  <thead>\n    <tr style=\"text-align: right;\">\n      <th></th>\n      <th>Total Values</th>\n    </tr>\n  </thead>\n  <tbody>\n    <tr>\n      <th>web-scraper-order</th>\n      <td>2858</td>\n    </tr>\n    <tr>\n      <th>web-scraper-start-url</th>\n      <td>2858</td>\n    </tr>\n    <tr>\n      <th>pagination</th>\n      <td>2751</td>\n    </tr>\n    <tr>\n      <th>listing-title</th>\n      <td>2858</td>\n    </tr>\n    <tr>\n      <th>listing-description</th>\n      <td>2858</td>\n    </tr>\n    <tr>\n      <th>listing-housing-type</th>\n      <td>2858</td>\n    </tr>\n    <tr>\n      <th>listing-features</th>\n      <td>2858</td>\n    </tr>\n    <tr>\n      <th>listing-notices</th>\n      <td>2858</td>\n    </tr>\n    <tr>\n      <th>listing-id</th>\n      <td>2858</td>\n    </tr>\n    <tr>\n      <th>listing-link</th>\n      <td>2858</td>\n    </tr>\n    <tr>\n      <th>listing-link-href</th>\n      <td>2858</td>\n    </tr>\n    <tr>\n      <th>listing-availability</th>\n      <td>1534</td>\n    </tr>\n    <tr>\n      <th>listing-posting-date</th>\n      <td>2858</td>\n    </tr>\n    <tr>\n      <th>listing-address</th>\n      <td>2098</td>\n    </tr>\n    <tr>\n      <th>listing-map-latitude</th>\n      <td>2857</td>\n    </tr>\n    <tr>\n      <th>listing-map-longitude</th>\n      <td>2857</td>\n    </tr>\n    <tr>\n      <th>listing-map-accuracy</th>\n      <td>2857</td>\n    </tr>\n  </tbody>\n</table>\n</div>"
     },
     "execution_count": 4,
     "metadata": {},
     "output_type": "execute_result"
    }
   ],
   "source": [
    "## Get the total values in the each column\n",
    "total_values = pd.DataFrame(\n",
    "    data.count(),\n",
    "    columns=['Total Values']\n",
    ")\n",
    "total_values"
   ],
   "metadata": {
    "collapsed": false,
    "pycharm": {
     "name": "#%%\n"
    }
   }
  },
  {
   "cell_type": "code",
   "execution_count": 5,
   "outputs": [
    {
     "data": {
      "text/plain": "                       Missing Values\nweb-scraper-order                   0\nweb-scraper-start-url               0\npagination                        107\nlisting-title                       0\nlisting-description                 0\nlisting-housing-type                0\nlisting-features                    0\nlisting-notices                     0\nlisting-id                          0\nlisting-link                        0\nlisting-link-href                   0\nlisting-availability             1324\nlisting-posting-date                0\nlisting-address                   760\nlisting-map-latitude                1\nlisting-map-longitude               1\nlisting-map-accuracy                1",
      "text/html": "<div>\n<style scoped>\n    .dataframe tbody tr th:only-of-type {\n        vertical-align: middle;\n    }\n\n    .dataframe tbody tr th {\n        vertical-align: top;\n    }\n\n    .dataframe thead th {\n        text-align: right;\n    }\n</style>\n<table border=\"1\" class=\"dataframe\">\n  <thead>\n    <tr style=\"text-align: right;\">\n      <th></th>\n      <th>Missing Values</th>\n    </tr>\n  </thead>\n  <tbody>\n    <tr>\n      <th>web-scraper-order</th>\n      <td>0</td>\n    </tr>\n    <tr>\n      <th>web-scraper-start-url</th>\n      <td>0</td>\n    </tr>\n    <tr>\n      <th>pagination</th>\n      <td>107</td>\n    </tr>\n    <tr>\n      <th>listing-title</th>\n      <td>0</td>\n    </tr>\n    <tr>\n      <th>listing-description</th>\n      <td>0</td>\n    </tr>\n    <tr>\n      <th>listing-housing-type</th>\n      <td>0</td>\n    </tr>\n    <tr>\n      <th>listing-features</th>\n      <td>0</td>\n    </tr>\n    <tr>\n      <th>listing-notices</th>\n      <td>0</td>\n    </tr>\n    <tr>\n      <th>listing-id</th>\n      <td>0</td>\n    </tr>\n    <tr>\n      <th>listing-link</th>\n      <td>0</td>\n    </tr>\n    <tr>\n      <th>listing-link-href</th>\n      <td>0</td>\n    </tr>\n    <tr>\n      <th>listing-availability</th>\n      <td>1324</td>\n    </tr>\n    <tr>\n      <th>listing-posting-date</th>\n      <td>0</td>\n    </tr>\n    <tr>\n      <th>listing-address</th>\n      <td>760</td>\n    </tr>\n    <tr>\n      <th>listing-map-latitude</th>\n      <td>1</td>\n    </tr>\n    <tr>\n      <th>listing-map-longitude</th>\n      <td>1</td>\n    </tr>\n    <tr>\n      <th>listing-map-accuracy</th>\n      <td>1</td>\n    </tr>\n  </tbody>\n</table>\n</div>"
     },
     "execution_count": 5,
     "metadata": {},
     "output_type": "execute_result"
    }
   ],
   "source": [
    "## Check total missing values in each column of the dataset\n",
    "missing_data = pd.DataFrame(\n",
    "    data.isnull().sum(),\n",
    "    columns=['Missing Values']\n",
    ")\n",
    "missing_data"
   ],
   "metadata": {
    "collapsed": false,
    "pycharm": {
     "name": "#%%\n"
    }
   }
  },
  {
   "cell_type": "code",
   "execution_count": 6,
   "outputs": [
    {
     "data": {
      "text/plain": "                       Unique Values\nweb-scraper-order               2858\nweb-scraper-start-url              1\npagination                        24\nlisting-title                   2404\nlisting-description             2324\nlisting-housing-type              35\nlisting-features                 643\nlisting-notices                    2\nlisting-id                      2858\nlisting-link                    1680\nlisting-link-href               2858\nlisting-availability              58\nlisting-posting-date              35\nlisting-address                 1358\nlisting-map-latitude            1243\nlisting-map-longitude           1284\nlisting-map-accuracy               9",
      "text/html": "<div>\n<style scoped>\n    .dataframe tbody tr th:only-of-type {\n        vertical-align: middle;\n    }\n\n    .dataframe tbody tr th {\n        vertical-align: top;\n    }\n\n    .dataframe thead th {\n        text-align: right;\n    }\n</style>\n<table border=\"1\" class=\"dataframe\">\n  <thead>\n    <tr style=\"text-align: right;\">\n      <th></th>\n      <th>Unique Values</th>\n    </tr>\n  </thead>\n  <tbody>\n    <tr>\n      <th>web-scraper-order</th>\n      <td>2858</td>\n    </tr>\n    <tr>\n      <th>web-scraper-start-url</th>\n      <td>1</td>\n    </tr>\n    <tr>\n      <th>pagination</th>\n      <td>24</td>\n    </tr>\n    <tr>\n      <th>listing-title</th>\n      <td>2404</td>\n    </tr>\n    <tr>\n      <th>listing-description</th>\n      <td>2324</td>\n    </tr>\n    <tr>\n      <th>listing-housing-type</th>\n      <td>35</td>\n    </tr>\n    <tr>\n      <th>listing-features</th>\n      <td>643</td>\n    </tr>\n    <tr>\n      <th>listing-notices</th>\n      <td>2</td>\n    </tr>\n    <tr>\n      <th>listing-id</th>\n      <td>2858</td>\n    </tr>\n    <tr>\n      <th>listing-link</th>\n      <td>1680</td>\n    </tr>\n    <tr>\n      <th>listing-link-href</th>\n      <td>2858</td>\n    </tr>\n    <tr>\n      <th>listing-availability</th>\n      <td>58</td>\n    </tr>\n    <tr>\n      <th>listing-posting-date</th>\n      <td>35</td>\n    </tr>\n    <tr>\n      <th>listing-address</th>\n      <td>1358</td>\n    </tr>\n    <tr>\n      <th>listing-map-latitude</th>\n      <td>1243</td>\n    </tr>\n    <tr>\n      <th>listing-map-longitude</th>\n      <td>1284</td>\n    </tr>\n    <tr>\n      <th>listing-map-accuracy</th>\n      <td>9</td>\n    </tr>\n  </tbody>\n</table>\n</div>"
     },
     "execution_count": 6,
     "metadata": {},
     "output_type": "execute_result"
    }
   ],
   "source": [
    "## Check total unique values in each column of the dataset\n",
    "unique_values = pd.DataFrame(\n",
    "    data.nunique(),\n",
    "    columns=['Unique Values']\n",
    ")\n",
    "unique_values"
   ],
   "metadata": {
    "collapsed": false,
    "pycharm": {
     "name": "#%%\n"
    }
   }
  },
  {
   "cell_type": "code",
   "execution_count": 7,
   "outputs": [
    {
     "data": {
      "text/plain": "                      Data Type  Total Values  Missing Values  Unique Values\nweb-scraper-order        object          2858               0           2858\nweb-scraper-start-url    object          2858               0              1\npagination               object          2751             107             24\nlisting-title            object          2858               0           2404\nlisting-description      object          2858               0           2324\nlisting-housing-type     object          2858               0             35\nlisting-features         object          2858               0            643\nlisting-notices          object          2858               0              2\nlisting-id               object          2858               0           2858\nlisting-link             object          2858               0           1680\nlisting-link-href        object          2858               0           2858\nlisting-availability     object          1534            1324             58\nlisting-posting-date     object          2858               0             35\nlisting-address          object          2098             760           1358\nlisting-map-latitude    float64          2857               1           1243\nlisting-map-longitude   float64          2857               1           1284\nlisting-map-accuracy    float64          2857               1              9",
      "text/html": "<div>\n<style scoped>\n    .dataframe tbody tr th:only-of-type {\n        vertical-align: middle;\n    }\n\n    .dataframe tbody tr th {\n        vertical-align: top;\n    }\n\n    .dataframe thead th {\n        text-align: right;\n    }\n</style>\n<table border=\"1\" class=\"dataframe\">\n  <thead>\n    <tr style=\"text-align: right;\">\n      <th></th>\n      <th>Data Type</th>\n      <th>Total Values</th>\n      <th>Missing Values</th>\n      <th>Unique Values</th>\n    </tr>\n  </thead>\n  <tbody>\n    <tr>\n      <th>web-scraper-order</th>\n      <td>object</td>\n      <td>2858</td>\n      <td>0</td>\n      <td>2858</td>\n    </tr>\n    <tr>\n      <th>web-scraper-start-url</th>\n      <td>object</td>\n      <td>2858</td>\n      <td>0</td>\n      <td>1</td>\n    </tr>\n    <tr>\n      <th>pagination</th>\n      <td>object</td>\n      <td>2751</td>\n      <td>107</td>\n      <td>24</td>\n    </tr>\n    <tr>\n      <th>listing-title</th>\n      <td>object</td>\n      <td>2858</td>\n      <td>0</td>\n      <td>2404</td>\n    </tr>\n    <tr>\n      <th>listing-description</th>\n      <td>object</td>\n      <td>2858</td>\n      <td>0</td>\n      <td>2324</td>\n    </tr>\n    <tr>\n      <th>listing-housing-type</th>\n      <td>object</td>\n      <td>2858</td>\n      <td>0</td>\n      <td>35</td>\n    </tr>\n    <tr>\n      <th>listing-features</th>\n      <td>object</td>\n      <td>2858</td>\n      <td>0</td>\n      <td>643</td>\n    </tr>\n    <tr>\n      <th>listing-notices</th>\n      <td>object</td>\n      <td>2858</td>\n      <td>0</td>\n      <td>2</td>\n    </tr>\n    <tr>\n      <th>listing-id</th>\n      <td>object</td>\n      <td>2858</td>\n      <td>0</td>\n      <td>2858</td>\n    </tr>\n    <tr>\n      <th>listing-link</th>\n      <td>object</td>\n      <td>2858</td>\n      <td>0</td>\n      <td>1680</td>\n    </tr>\n    <tr>\n      <th>listing-link-href</th>\n      <td>object</td>\n      <td>2858</td>\n      <td>0</td>\n      <td>2858</td>\n    </tr>\n    <tr>\n      <th>listing-availability</th>\n      <td>object</td>\n      <td>1534</td>\n      <td>1324</td>\n      <td>58</td>\n    </tr>\n    <tr>\n      <th>listing-posting-date</th>\n      <td>object</td>\n      <td>2858</td>\n      <td>0</td>\n      <td>35</td>\n    </tr>\n    <tr>\n      <th>listing-address</th>\n      <td>object</td>\n      <td>2098</td>\n      <td>760</td>\n      <td>1358</td>\n    </tr>\n    <tr>\n      <th>listing-map-latitude</th>\n      <td>float64</td>\n      <td>2857</td>\n      <td>1</td>\n      <td>1243</td>\n    </tr>\n    <tr>\n      <th>listing-map-longitude</th>\n      <td>float64</td>\n      <td>2857</td>\n      <td>1</td>\n      <td>1284</td>\n    </tr>\n    <tr>\n      <th>listing-map-accuracy</th>\n      <td>float64</td>\n      <td>2857</td>\n      <td>1</td>\n      <td>9</td>\n    </tr>\n  </tbody>\n</table>\n</div>"
     },
     "execution_count": 7,
     "metadata": {},
     "output_type": "execute_result"
    }
   ],
   "source": [
    "dq_report = data_types.join(total_values).join(missing_data).join(unique_values)\n",
    "dq_report"
   ],
   "metadata": {
    "collapsed": false,
    "pycharm": {
     "name": "#%%\n"
    }
   }
  },
  {
   "cell_type": "code",
   "execution_count": 8,
   "outputs": [
    {
     "data": {
      "text/plain": "                                 listing-description\n0  QR Code Link to This Post\\n            \\n     ...\n1  QR Code Link to This Post\\n            \\n     ...\n2  QR Code Link to This Post\\n            \\n     ...\n3  QR Code Link to This Post\\n            \\n     ...\n4  QR Code Link to This Post\\n            \\n     ...\n5  QR Code Link to This Post\\n            \\n     ...\n6  QR Code Link to This Post\\n            \\n     ...\n7  QR Code Link to This Post\\n            \\n     ...\n8  QR Code Link to This Post\\n            \\n     ...\n9  QR Code Link to This Post\\n            \\n     ...",
      "text/html": "<div>\n<style scoped>\n    .dataframe tbody tr th:only-of-type {\n        vertical-align: middle;\n    }\n\n    .dataframe tbody tr th {\n        vertical-align: top;\n    }\n\n    .dataframe thead th {\n        text-align: right;\n    }\n</style>\n<table border=\"1\" class=\"dataframe\">\n  <thead>\n    <tr style=\"text-align: right;\">\n      <th></th>\n      <th>listing-description</th>\n    </tr>\n  </thead>\n  <tbody>\n    <tr>\n      <th>0</th>\n      <td>QR Code Link to This Post\\n            \\n     ...</td>\n    </tr>\n    <tr>\n      <th>1</th>\n      <td>QR Code Link to This Post\\n            \\n     ...</td>\n    </tr>\n    <tr>\n      <th>2</th>\n      <td>QR Code Link to This Post\\n            \\n     ...</td>\n    </tr>\n    <tr>\n      <th>3</th>\n      <td>QR Code Link to This Post\\n            \\n     ...</td>\n    </tr>\n    <tr>\n      <th>4</th>\n      <td>QR Code Link to This Post\\n            \\n     ...</td>\n    </tr>\n    <tr>\n      <th>5</th>\n      <td>QR Code Link to This Post\\n            \\n     ...</td>\n    </tr>\n    <tr>\n      <th>6</th>\n      <td>QR Code Link to This Post\\n            \\n     ...</td>\n    </tr>\n    <tr>\n      <th>7</th>\n      <td>QR Code Link to This Post\\n            \\n     ...</td>\n    </tr>\n    <tr>\n      <th>8</th>\n      <td>QR Code Link to This Post\\n            \\n     ...</td>\n    </tr>\n    <tr>\n      <th>9</th>\n      <td>QR Code Link to This Post\\n            \\n     ...</td>\n    </tr>\n  </tbody>\n</table>\n</div>"
     },
     "execution_count": 8,
     "metadata": {},
     "output_type": "execute_result"
    }
   ],
   "source": [
    "## Get the listing-description fields from the data\n",
    "listing_description = pd.DataFrame(\n",
    "    data['listing-description'],\n",
    "    columns=['listing-description']\n",
    ")\n",
    "listing_description.head(10)"
   ],
   "metadata": {
    "collapsed": false,
    "pycharm": {
     "name": "#%%\n"
    }
   }
  },
  {
   "cell_type": "code",
   "execution_count": 54,
   "outputs": [
    {
     "data": {
      "text/plain": "0       QR Code Link to This Post;Apartment home avail...\n1       QR Code Link to This Post;Call Apartment Guys ...\n2       QR Code Link to This Post;Contact me to learn ...\n3       QR Code Link to This Post;PROPERTY INFO;ID: 23...\n4       QR Code Link to This Post;4535 N Paulina Unit ...\n                              ...                        \n2853    QR Code Link to This Post;Interested in this p...\n2854    QR Code Link to This Post;We are conveniently ...\n2855    QR Code Link to This Post;Interested in this p...\n2856    QR Code Link to This Post;PROPERTY INFO;ID: 23...\n2857    QR Code Link to This Post;1BR / 1Ba;apartment;...\nName: listing-description, Length: 2858, dtype: object"
     },
     "execution_count": 54,
     "metadata": {},
     "output_type": "execute_result"
    }
   ],
   "source": [
    "import re\n",
    "regex_tab = re.compile(r'(\\s{2,})', flags=re.IGNORECASE)\n",
    "regex_newline = re.compile(r'\\n', flags=re.IGNORECASE)\n",
    "description = listing_description['listing-description'].str.replace(regex_newline, ';', regex=True)\n",
    "description = description.str.replace(regex_tab, '', regex=True)\n",
    "regex_semicol = re.compile(r';+', flags=re.IGNORECASE)\n",
    "description = description.str.replace(regex_semicol, ';', regex=True)\n",
    "# cols = description.select_dtypes(object).columns\n",
    "# new_description = description[cols].apply(lambda x: x.str.strip())\n",
    "#\n",
    "# import re\n",
    "# new_description.replace(to_replace=[None, u''], value=np.nan, inplace=True)\n",
    "description = description.str.strip()\n",
    "description"
   ],
   "metadata": {
    "collapsed": false,
    "pycharm": {
     "name": "#%%\n"
    }
   }
  },
  {
   "cell_type": "code",
   "execution_count": 176,
   "outputs": [
    {
     "data": {
      "text/plain": "                            0    \\\n0     QR Code Link to This Post   \n1     QR Code Link to This Post   \n2     QR Code Link to This Post   \n3     QR Code Link to This Post   \n4     QR Code Link to This Post   \n...                         ...   \n2853  QR Code Link to This Post   \n2854  QR Code Link to This Post   \n2855  QR Code Link to This Post   \n2856  QR Code Link to This Post   \n2857  QR Code Link to This Post   \n\n                                                    3    4    \\\n0     Apartment home available July 1st on Chicago’s...  NaN   \n1     Call Apartment Guys at 773-549-3474 and ask fo...  NaN   \n2     Contact me to learn more about an innovative L...  NaN   \n3                                         PROPERTY INFO  NaN   \n4             4535 N Paulina Unit #3D Chicago, IL 60640  NaN   \n...                                                 ...  ...   \n2853                       Interested in this property?  NaN   \n2854  We are conveniently located near Edens, Metra ...  NaN   \n2855                       Interested in this property?  NaN   \n2856                                      PROPERTY INFO  NaN   \n2857                                          1BR / 1Ba  NaN   \n\n                                                    5    6    \\\n0                                                   NaN  NaN   \n1                                                   NaN  NaN   \n2                      Basic Requirements to Qualify**:  NaN   \n3     ID: 232839975Rent: $3,500 / MonthBeds: 2Bath: ...  NaN   \n4                                                   NaN  NaN   \n...                                                 ...  ...   \n2853                                                NaN  NaN   \n2854                                                NaN  NaN   \n2855                                                NaN  NaN   \n2856  ID: 237708192Rent: $3,147 / MonthBeds: 3Bath: ...  NaN   \n2857                                          apartment  NaN   \n\n                                                    7    8    \\\n0                        $500 OFF SECOND MONTH\"S RENT!!  NaN   \n1                                                   NaN  NaN   \n2                                     • FICO Score 620+  NaN   \n3        VIDEO TOUR: www.chicagodoorstep.com/washington  NaN   \n4           Bright & Sunny 1 bedroom unit in Ravenswood  NaN   \n...                                                 ...  ...   \n2853  Click on: Reply to this listing for more infor...  NaN   \n2854  Located in Skokie near both Old Orchard Shoppi...  NaN   \n2855  Click on: Reply to this listing for more infor...  NaN   \n2856                     Available Aug 8th and Sept 9th  NaN   \n2857                                            No pets  NaN   \n\n                                        9    10   \\\n0                                       NaN  NaN   \n1                                       NaN  NaN   \n2     • Annual household income of $60,000+  NaN   \n3                                       NaN  NaN   \n4                                       NaN  NaN   \n...                                     ...  ...   \n2853                                    NaN  NaN   \n2854                                    NaN  NaN   \n2855                                    NaN  NaN   \n2856                  Will hold for 30 days  NaN   \n2857                             No smoking  NaN   \n\n                                                    11   ...  205  207  211  \\\n0                                     Building Features  ...  NaN  NaN  NaN   \n1                                                   NaN  ...  NaN  NaN  NaN   \n2     • Max Debt To Income (DTI) Ratio is 50% (45% f...  ...  NaN  NaN  NaN   \n3             Parking and large storage unit INCLUDED!!  ...  NaN  NaN  NaN   \n4     Close to the Brown Line train Montrose stop, a...  ...  NaN  NaN  NaN   \n...                                                 ...  ...  ...  ...  ...   \n2853  ** if you are texting us, please include the l...  ...  NaN  NaN  NaN   \n2854                                                NaN  ...  NaN  NaN  NaN   \n2855  ** if you are texting us, please include the l...  ...  NaN  NaN  NaN   \n2856                                                NaN  ...  NaN  NaN  NaN   \n2857                                    laundry in bldg  ...  NaN  NaN  NaN   \n\n      213  217  219  223  225  231  237  \n0     NaN  NaN  NaN  NaN  NaN  NaN  NaN  \n1     NaN  NaN  NaN  NaN  NaN  NaN  NaN  \n2     NaN  NaN  NaN  NaN  NaN  NaN  NaN  \n3     NaN  NaN  NaN  NaN  NaN  NaN  NaN  \n4     NaN  NaN  NaN  NaN  NaN  NaN  NaN  \n...   ...  ...  ...  ...  ...  ...  ...  \n2853  NaN  NaN  NaN  NaN  NaN  NaN  NaN  \n2854  NaN  NaN  NaN  NaN  NaN  NaN  NaN  \n2855  NaN  NaN  NaN  NaN  NaN  NaN  NaN  \n2856  NaN  NaN  NaN  NaN  NaN  NaN  NaN  \n2857  NaN  NaN  NaN  NaN  NaN  NaN  NaN  \n\n[2858 rows x 166 columns]",
      "text/html": "<div>\n<style scoped>\n    .dataframe tbody tr th:only-of-type {\n        vertical-align: middle;\n    }\n\n    .dataframe tbody tr th {\n        vertical-align: top;\n    }\n\n    .dataframe thead th {\n        text-align: right;\n    }\n</style>\n<table border=\"1\" class=\"dataframe\">\n  <thead>\n    <tr style=\"text-align: right;\">\n      <th></th>\n      <th>0</th>\n      <th>3</th>\n      <th>4</th>\n      <th>5</th>\n      <th>6</th>\n      <th>7</th>\n      <th>8</th>\n      <th>9</th>\n      <th>10</th>\n      <th>11</th>\n      <th>...</th>\n      <th>205</th>\n      <th>207</th>\n      <th>211</th>\n      <th>213</th>\n      <th>217</th>\n      <th>219</th>\n      <th>223</th>\n      <th>225</th>\n      <th>231</th>\n      <th>237</th>\n    </tr>\n  </thead>\n  <tbody>\n    <tr>\n      <th>0</th>\n      <td>QR Code Link to This Post</td>\n      <td>Apartment home available July 1st on Chicago’s...</td>\n      <td>NaN</td>\n      <td>NaN</td>\n      <td>NaN</td>\n      <td>$500 OFF SECOND MONTH\"S RENT!!</td>\n      <td>NaN</td>\n      <td>NaN</td>\n      <td>NaN</td>\n      <td>Building Features</td>\n      <td>...</td>\n      <td>NaN</td>\n      <td>NaN</td>\n      <td>NaN</td>\n      <td>NaN</td>\n      <td>NaN</td>\n      <td>NaN</td>\n      <td>NaN</td>\n      <td>NaN</td>\n      <td>NaN</td>\n      <td>NaN</td>\n    </tr>\n    <tr>\n      <th>1</th>\n      <td>QR Code Link to This Post</td>\n      <td>Call Apartment Guys at 773-549-3474 and ask fo...</td>\n      <td>NaN</td>\n      <td>NaN</td>\n      <td>NaN</td>\n      <td>NaN</td>\n      <td>NaN</td>\n      <td>NaN</td>\n      <td>NaN</td>\n      <td>NaN</td>\n      <td>...</td>\n      <td>NaN</td>\n      <td>NaN</td>\n      <td>NaN</td>\n      <td>NaN</td>\n      <td>NaN</td>\n      <td>NaN</td>\n      <td>NaN</td>\n      <td>NaN</td>\n      <td>NaN</td>\n      <td>NaN</td>\n    </tr>\n    <tr>\n      <th>2</th>\n      <td>QR Code Link to This Post</td>\n      <td>Contact me to learn more about an innovative L...</td>\n      <td>NaN</td>\n      <td>Basic Requirements to Qualify**:</td>\n      <td>NaN</td>\n      <td>• FICO Score 620+</td>\n      <td>NaN</td>\n      <td>• Annual household income of $60,000+</td>\n      <td>NaN</td>\n      <td>• Max Debt To Income (DTI) Ratio is 50% (45% f...</td>\n      <td>...</td>\n      <td>NaN</td>\n      <td>NaN</td>\n      <td>NaN</td>\n      <td>NaN</td>\n      <td>NaN</td>\n      <td>NaN</td>\n      <td>NaN</td>\n      <td>NaN</td>\n      <td>NaN</td>\n      <td>NaN</td>\n    </tr>\n    <tr>\n      <th>3</th>\n      <td>QR Code Link to This Post</td>\n      <td>PROPERTY INFO</td>\n      <td>NaN</td>\n      <td>ID: 232839975Rent: $3,500 / MonthBeds: 2Bath: ...</td>\n      <td>NaN</td>\n      <td>VIDEO TOUR: www.chicagodoorstep.com/washington</td>\n      <td>NaN</td>\n      <td>NaN</td>\n      <td>NaN</td>\n      <td>Parking and large storage unit INCLUDED!!</td>\n      <td>...</td>\n      <td>NaN</td>\n      <td>NaN</td>\n      <td>NaN</td>\n      <td>NaN</td>\n      <td>NaN</td>\n      <td>NaN</td>\n      <td>NaN</td>\n      <td>NaN</td>\n      <td>NaN</td>\n      <td>NaN</td>\n    </tr>\n    <tr>\n      <th>4</th>\n      <td>QR Code Link to This Post</td>\n      <td>4535 N Paulina Unit #3D Chicago, IL 60640</td>\n      <td>NaN</td>\n      <td>NaN</td>\n      <td>NaN</td>\n      <td>Bright &amp; Sunny 1 bedroom unit in Ravenswood</td>\n      <td>NaN</td>\n      <td>NaN</td>\n      <td>NaN</td>\n      <td>Close to the Brown Line train Montrose stop, a...</td>\n      <td>...</td>\n      <td>NaN</td>\n      <td>NaN</td>\n      <td>NaN</td>\n      <td>NaN</td>\n      <td>NaN</td>\n      <td>NaN</td>\n      <td>NaN</td>\n      <td>NaN</td>\n      <td>NaN</td>\n      <td>NaN</td>\n    </tr>\n    <tr>\n      <th>...</th>\n      <td>...</td>\n      <td>...</td>\n      <td>...</td>\n      <td>...</td>\n      <td>...</td>\n      <td>...</td>\n      <td>...</td>\n      <td>...</td>\n      <td>...</td>\n      <td>...</td>\n      <td>...</td>\n      <td>...</td>\n      <td>...</td>\n      <td>...</td>\n      <td>...</td>\n      <td>...</td>\n      <td>...</td>\n      <td>...</td>\n      <td>...</td>\n      <td>...</td>\n      <td>...</td>\n    </tr>\n    <tr>\n      <th>2853</th>\n      <td>QR Code Link to This Post</td>\n      <td>Interested in this property?</td>\n      <td>NaN</td>\n      <td>NaN</td>\n      <td>NaN</td>\n      <td>Click on: Reply to this listing for more infor...</td>\n      <td>NaN</td>\n      <td>NaN</td>\n      <td>NaN</td>\n      <td>** if you are texting us, please include the l...</td>\n      <td>...</td>\n      <td>NaN</td>\n      <td>NaN</td>\n      <td>NaN</td>\n      <td>NaN</td>\n      <td>NaN</td>\n      <td>NaN</td>\n      <td>NaN</td>\n      <td>NaN</td>\n      <td>NaN</td>\n      <td>NaN</td>\n    </tr>\n    <tr>\n      <th>2854</th>\n      <td>QR Code Link to This Post</td>\n      <td>We are conveniently located near Edens, Metra ...</td>\n      <td>NaN</td>\n      <td>NaN</td>\n      <td>NaN</td>\n      <td>Located in Skokie near both Old Orchard Shoppi...</td>\n      <td>NaN</td>\n      <td>NaN</td>\n      <td>NaN</td>\n      <td>NaN</td>\n      <td>...</td>\n      <td>NaN</td>\n      <td>NaN</td>\n      <td>NaN</td>\n      <td>NaN</td>\n      <td>NaN</td>\n      <td>NaN</td>\n      <td>NaN</td>\n      <td>NaN</td>\n      <td>NaN</td>\n      <td>NaN</td>\n    </tr>\n    <tr>\n      <th>2855</th>\n      <td>QR Code Link to This Post</td>\n      <td>Interested in this property?</td>\n      <td>NaN</td>\n      <td>NaN</td>\n      <td>NaN</td>\n      <td>Click on: Reply to this listing for more infor...</td>\n      <td>NaN</td>\n      <td>NaN</td>\n      <td>NaN</td>\n      <td>** if you are texting us, please include the l...</td>\n      <td>...</td>\n      <td>NaN</td>\n      <td>NaN</td>\n      <td>NaN</td>\n      <td>NaN</td>\n      <td>NaN</td>\n      <td>NaN</td>\n      <td>NaN</td>\n      <td>NaN</td>\n      <td>NaN</td>\n      <td>NaN</td>\n    </tr>\n    <tr>\n      <th>2856</th>\n      <td>QR Code Link to This Post</td>\n      <td>PROPERTY INFO</td>\n      <td>NaN</td>\n      <td>ID: 237708192Rent: $3,147 / MonthBeds: 3Bath: ...</td>\n      <td>NaN</td>\n      <td>Available Aug 8th and Sept 9th</td>\n      <td>NaN</td>\n      <td>Will hold for 30 days</td>\n      <td>NaN</td>\n      <td>NaN</td>\n      <td>...</td>\n      <td>NaN</td>\n      <td>NaN</td>\n      <td>NaN</td>\n      <td>NaN</td>\n      <td>NaN</td>\n      <td>NaN</td>\n      <td>NaN</td>\n      <td>NaN</td>\n      <td>NaN</td>\n      <td>NaN</td>\n    </tr>\n    <tr>\n      <th>2857</th>\n      <td>QR Code Link to This Post</td>\n      <td>1BR / 1Ba</td>\n      <td>NaN</td>\n      <td>apartment</td>\n      <td>NaN</td>\n      <td>No pets</td>\n      <td>NaN</td>\n      <td>No smoking</td>\n      <td>NaN</td>\n      <td>laundry in bldg</td>\n      <td>...</td>\n      <td>NaN</td>\n      <td>NaN</td>\n      <td>NaN</td>\n      <td>NaN</td>\n      <td>NaN</td>\n      <td>NaN</td>\n      <td>NaN</td>\n      <td>NaN</td>\n      <td>NaN</td>\n      <td>NaN</td>\n    </tr>\n  </tbody>\n</table>\n<p>2858 rows × 166 columns</p>\n</div>"
     },
     "execution_count": 176,
     "metadata": {},
     "output_type": "execute_result"
    }
   ],
   "source": [
    "description = new_description.dropna(how='all', axis=1)\n",
    "description"
   ],
   "metadata": {
    "collapsed": false,
    "pycharm": {
     "name": "#%%\n"
    }
   }
  },
  {
   "cell_type": "code",
   "execution_count": 192,
   "outputs": [
    {
     "data": {
      "text/plain": "0       QR Code Link to This Post\\tApartment home avai...\n1       QR Code Link to This Post\\tCall Apartment Guys...\n2       QR Code Link to This Post\\tContact me to learn...\n3       QR Code Link to This Post\\tPROPERTY INFO\\tnan\\...\n4       QR Code Link to This Post\\t4535 N Paulina Unit...\n                              ...                        \n2853    QR Code Link to This Post\\tInterested in this ...\n2854    QR Code Link to This Post\\tWe are conveniently...\n2855    QR Code Link to This Post\\tInterested in this ...\n2856    QR Code Link to This Post\\tPROPERTY INFO\\tnan\\...\n2857    QR Code Link to This Post\\t1BR / 1Ba\\tnan\\tapa...\nLength: 2858, dtype: object"
     },
     "execution_count": 192,
     "metadata": {},
     "output_type": "execute_result"
    }
   ],
   "source": [
    "# Initialize columns\n",
    "cols_concat = description.columns\n",
    "\n",
    "# Convert them to type str\n",
    "description[cols_concat].astype('str')\n",
    "\n",
    "# Then concatenate them as follows\n",
    "features = description[cols_concat].T.agg('\\X0'.join)\n",
    "features"
   ],
   "metadata": {
    "collapsed": false,
    "pycharm": {
     "name": "#%%\n"
    }
   }
  },
  {
   "cell_type": "code",
   "execution_count": 1,
   "outputs": [
    {
     "ename": "NameError",
     "evalue": "name 'features' is not defined",
     "output_type": "error",
     "traceback": [
      "\u001B[0;31m---------------------------------------------------------------------------\u001B[0m",
      "\u001B[0;31mNameError\u001B[0m                                 Traceback (most recent call last)",
      "Input \u001B[0;32mIn [1]\u001B[0m, in \u001B[0;36m<cell line: 1>\u001B[0;34m()\u001B[0m\n\u001B[0;32m----> 1\u001B[0m \u001B[43mfeatures\u001B[49m\u001B[38;5;241m.\u001B[39mto_excel(\u001B[38;5;124m\"\u001B[39m\u001B[38;5;124mdata/description.xlsx\u001B[39m\u001B[38;5;124m\"\u001B[39m, index\u001B[38;5;241m=\u001B[39m\u001B[38;5;28;01mFalse\u001B[39;00m)\n\u001B[1;32m      2\u001B[0m features\n",
      "\u001B[0;31mNameError\u001B[0m: name 'features' is not defined"
     ]
    }
   ],
   "source": [
    "features.to_excel(\"data/description.xlsx\", index=False)\n",
    "features"
   ],
   "metadata": {
    "collapsed": false,
    "pycharm": {
     "name": "#%%\n"
    }
   }
  },
  {
   "cell_type": "code",
   "execution_count": null,
   "outputs": [],
   "source": [],
   "metadata": {
    "collapsed": false,
    "pycharm": {
     "name": "#%%\n"
    }
   }
  }
 ],
 "metadata": {
  "kernelspec": {
   "display_name": "Python 3",
   "language": "python",
   "name": "python3"
  },
  "language_info": {
   "codemirror_mode": {
    "name": "ipython",
    "version": 2
   },
   "file_extension": ".py",
   "mimetype": "text/x-python",
   "name": "python",
   "nbconvert_exporter": "python",
   "pygments_lexer": "ipython2",
   "version": "2.7.6"
  }
 },
 "nbformat": 4,
 "nbformat_minor": 0
}