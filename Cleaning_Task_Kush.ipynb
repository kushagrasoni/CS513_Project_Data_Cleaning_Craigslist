{
 "cells": [
  {
   "cell_type": "code",
   "execution_count": 266,
   "metadata": {
    "pycharm": {
     "name": "#%%\n"
    }
   },
   "outputs": [],
   "source": [
    "import pandas as pd\n",
    "import numpy as np"
   ]
  },
  {
   "cell_type": "code",
   "execution_count": 267,
   "metadata": {
    "pycharm": {
     "name": "#%%\n"
    }
   },
   "outputs": [
    {
     "name": "stdout",
     "output_type": "stream",
     "text": [
      "<class 'pandas.core.frame.DataFrame'>\n",
      "RangeIndex: 2858 entries, 0 to 2857\n",
      "Data columns (total 17 columns):\n",
      " #   Column                 Non-Null Count  Dtype  \n",
      "---  ------                 --------------  -----  \n",
      " 0   web-scraper-order      2858 non-null   object \n",
      " 1   web-scraper-start-url  2858 non-null   object \n",
      " 2   pagination             2751 non-null   object \n",
      " 3   listing-title          2858 non-null   object \n",
      " 4   listing-description    2858 non-null   object \n",
      " 5   listing-housing-type   2858 non-null   object \n",
      " 6   listing-features       2858 non-null   object \n",
      " 7   listing-notices        2858 non-null   object \n",
      " 8   listing-id             2858 non-null   object \n",
      " 9   listing-link           2858 non-null   object \n",
      " 10  listing-link-href      2858 non-null   object \n",
      " 11  listing-availability   1534 non-null   object \n",
      " 12  listing-posting-date   2858 non-null   object \n",
      " 13  listing-address        2098 non-null   object \n",
      " 14  listing-map-latitude   2857 non-null   float64\n",
      " 15  listing-map-longitude  2857 non-null   float64\n",
      " 16  listing-map-accuracy   2857 non-null   float64\n",
      "dtypes: float64(3), object(14)\n",
      "memory usage: 379.7+ KB\n"
     ]
    }
   ],
   "source": [
    "# CS513 - Theory Of Data Cleaning - Final Project\n",
    "### Description:\n",
    "#### Cleaning Craigslist listings of rental apartments in Chicago\n",
    "#### By:\n",
    "#### - Kushagra Soni\n",
    "#### - Peri Rocha\n",
    "\n",
    "## Reads the dataset from the project-dataset-final.xlsx file and captures it into a Pandas Dataframe. \n",
    "data_file = \"data/project-dataset-final.xlsx\"\n",
    "df_listings = pd.read_excel(data_file, index_col=None)\n",
    "df_listings.info()"
   ]
  },
  {
   "cell_type": "code",
   "execution_count": 268,
   "outputs": [
    {
     "name": "stdout",
     "output_type": "stream",
     "text": [
      "<class 'pandas.core.frame.DataFrame'>\n",
      "Int64Index: 2858 entries, 0 to 2857\n",
      "Data columns (total 1 columns):\n",
      " #   Column       Non-Null Count  Dtype \n",
      "---  ------       --------------  ----- \n",
      " 0   Description  2858 non-null   object\n",
      "dtypes: object(1)\n",
      "memory usage: 44.7+ KB\n"
     ]
    },
    {
     "data": {
      "text/plain": "                                            Description\n0     Apartment home available July 1st on Chicago’s...\n1     Call Apartment Guys at 773-549-3474 and ask fo...\n2     Contact me to learn more about an innovative L...\n3     PROPERTY INFO;ID: 232839975Rent: $3,500 / Mont...\n4     4535 N Paulina Unit #3D Chicago, IL 60640;Brig...\n...                                                 ...\n2853  Interested in this property?;Click on: Reply t...\n2854  We are conveniently located near Edens, Metra ...\n2855  Interested in this property?;Click on: Reply t...\n2856  PROPERTY INFO;ID: 237708192Rent: $3,147 / Mont...\n2857  1BR / 1Ba;apartment;No pets;No smoking;laundry...\n\n[2858 rows x 1 columns]",
      "text/html": "<div>\n<style scoped>\n    .dataframe tbody tr th:only-of-type {\n        vertical-align: middle;\n    }\n\n    .dataframe tbody tr th {\n        vertical-align: top;\n    }\n\n    .dataframe thead th {\n        text-align: right;\n    }\n</style>\n<table border=\"1\" class=\"dataframe\">\n  <thead>\n    <tr style=\"text-align: right;\">\n      <th></th>\n      <th>Description</th>\n    </tr>\n  </thead>\n  <tbody>\n    <tr>\n      <th>0</th>\n      <td>Apartment home available July 1st on Chicago’s...</td>\n    </tr>\n    <tr>\n      <th>1</th>\n      <td>Call Apartment Guys at 773-549-3474 and ask fo...</td>\n    </tr>\n    <tr>\n      <th>2</th>\n      <td>Contact me to learn more about an innovative L...</td>\n    </tr>\n    <tr>\n      <th>3</th>\n      <td>PROPERTY INFO;ID: 232839975Rent: $3,500 / Mont...</td>\n    </tr>\n    <tr>\n      <th>4</th>\n      <td>4535 N Paulina Unit #3D Chicago, IL 60640;Brig...</td>\n    </tr>\n    <tr>\n      <th>...</th>\n      <td>...</td>\n    </tr>\n    <tr>\n      <th>2853</th>\n      <td>Interested in this property?;Click on: Reply t...</td>\n    </tr>\n    <tr>\n      <th>2854</th>\n      <td>We are conveniently located near Edens, Metra ...</td>\n    </tr>\n    <tr>\n      <th>2855</th>\n      <td>Interested in this property?;Click on: Reply t...</td>\n    </tr>\n    <tr>\n      <th>2856</th>\n      <td>PROPERTY INFO;ID: 237708192Rent: $3,147 / Mont...</td>\n    </tr>\n    <tr>\n      <th>2857</th>\n      <td>1BR / 1Ba;apartment;No pets;No smoking;laundry...</td>\n    </tr>\n  </tbody>\n</table>\n<p>2858 rows × 1 columns</p>\n</div>"
     },
     "execution_count": 268,
     "metadata": {},
     "output_type": "execute_result"
    }
   ],
   "source": [
    "## Get the listing-description fields from the data and Clean it\n",
    "### - Removes the Prefix - \"QR Code Link to This Post\"\n",
    "### - Removes line breaks and Extra Tabs and spaces and replaces them with semicolon \";\"\n",
    "\n",
    "import re\n",
    "\n",
    "#### Creates regex patterns for newline, tabs and semicolon\n",
    "regex_newline = re.compile(r'\\n', flags=re.IGNORECASE)\n",
    "regex_tab = re.compile(r'(\\s{2,})', flags=re.IGNORECASE)\n",
    "regex_semicolon = re.compile(r';+', flags=re.IGNORECASE)\n",
    "\n",
    "#### Apply the regex(s) to the \"listing-description\" field and generate new field \"description\"\n",
    "series_description = df_listings['listing-description'].str.replace(regex_newline, ';', regex=True)\n",
    "\n",
    "series_description = series_description.str.replace(regex_tab, '', regex=True)\n",
    "series_description = series_description.str.replace(regex_semicolon, ';', regex=True)\n",
    "regex_qr_code = re.compile(r'QR Code Link to This Post;', flags=re.IGNORECASE)\n",
    "series_description = series_description.str.replace(regex_qr_code, '', regex=True)\n",
    "series_description = series_description.str.strip()\n",
    "series_description = series_description.dropna(how='all', axis=0)\n",
    "df_description = pd.DataFrame()\n",
    "df_description['Description'] = series_description\n",
    "df_description.info()\n",
    "df_description"
   ],
   "metadata": {
    "collapsed": false,
    "pycharm": {
     "name": "#%%\n"
    }
   }
  },
  {
   "cell_type": "code",
   "execution_count": 269,
   "outputs": [
    {
     "name": "stdout",
     "output_type": "stream",
     "text": [
      "<class 'pandas.core.frame.DataFrame'>\n",
      "RangeIndex: 2858 entries, 0 to 2857\n",
      "Data columns (total 1 columns):\n",
      " #   Column  Non-Null Count  Dtype \n",
      "---  ------  --------------  ----- \n",
      " 0   Rent    2857 non-null   object\n",
      "dtypes: object(1)\n",
      "memory usage: 22.5+ KB\n",
      "<class 'pandas.core.frame.DataFrame'>\n",
      "RangeIndex: 2858 entries, 0 to 2857\n",
      "Data columns (total 1 columns):\n",
      " #   Column        Non-Null Count  Dtype \n",
      "---  ------        --------------  ----- \n",
      " 0   Housing Type  2768 non-null   object\n",
      "dtypes: object(1)\n",
      "memory usage: 22.5+ KB\n",
      "<class 'pandas.core.frame.DataFrame'>\n",
      "RangeIndex: 2858 entries, 0 to 2857\n",
      "Data columns (total 1 columns):\n",
      " #   Column        Non-Null Count  Dtype \n",
      "---  ------        --------------  ----- \n",
      " 0   Housing Type  2768 non-null   object\n",
      "dtypes: object(1)\n",
      "memory usage: 22.5+ KB\n",
      "<class 'pandas.core.frame.DataFrame'>\n",
      "RangeIndex: 2858 entries, 0 to 2857\n",
      "Data columns (total 1 columns):\n",
      " #   Column           Non-Null Count  Dtype \n",
      "---  ------           --------------  ----- \n",
      " 0   Footage (sq-ft)  1034 non-null   object\n",
      "dtypes: object(1)\n",
      "memory usage: 22.5+ KB\n"
     ]
    },
    {
     "name": "stderr",
     "output_type": "stream",
     "text": [
      "/var/folders/9t/fx1d82y17ld65ll42bk27zz40000gn/T/ipykernel_14461/1437155251.py:16: FutureWarning: The default value of regex will change from True to False in a future version.\n",
      "  df_rent['Rent'] = df_rent['Rent'].str.replace('\\,', '')\n",
      "/var/folders/9t/fx1d82y17ld65ll42bk27zz40000gn/T/ipykernel_14461/1437155251.py:28: FutureWarning: The default value of regex will change from True to False in a future version.\n",
      "  df_housing_type['Housing Type'] = df_housing_type['Housing Type'].str.replace(r'(?i)studio', 'STUDIO')\n"
     ]
    },
    {
     "data": {
      "text/plain": "Footage (sq-ft)    1034\ndtype: int64"
     },
     "execution_count": 269,
     "metadata": {},
     "output_type": "execute_result"
    }
   ],
   "source": [
    "## Get the listing-title fields from the data and Clean it\n",
    "### - Removes Rent Amount, BedRoom, Footage, etc. from beginning and creates individual fields listing-rent, listing-room-type and listing-footage\n",
    "### - Note that when it says \"0BR\" on listing-housing-type, the title will not have the count of bedrooms\n",
    "\n",
    "df_title = pd.DataFrame(df_listings['listing-title'])\n",
    "####### listing_title.info()\n",
    "####### listing_title\n",
    "\n",
    "\n",
    "#### Creates regex patterns for Rent amount and create dataframe listing-rent\n",
    "regex_rent = re.compile(r'(\\$\\d+\\,*\\d+\\s)', flags=re.IGNORECASE)\n",
    "\n",
    "#### Apply the regex(s) to the \"listing-title\" field and generate new field \"description\"\n",
    "df_rent = df_title['listing-title'].str.extract(regex_rent, expand=True)\n",
    "df_rent.columns = ['Rent']\n",
    "df_rent['Rent'] = df_rent['Rent'].str.replace('\\,', '')\n",
    "df_rent.info()\n",
    "\n",
    "#### Creates regex patterns for Room Type and create dataframe listing-room-type\n",
    "# It checks for either 1 or more Bed Room / Studio type\n",
    "regex_room_type = re.compile(r'(\\d*br\\s|studio|\\d+\\s*bed)', flags=re.IGNORECASE)\n",
    "\n",
    "# Apply the regex(s) to the \"listing-title\" field and generate new field \"housing type\"\n",
    "df_housing_type = df_listings['listing-title'].str.extract(regex_room_type, expand=True)\n",
    "df_housing_type.columns = ['Housing Type']\n",
    "df_housing_type.info()\n",
    "df_housing_type['Housing Type'] = df_housing_type['Housing Type'].str.replace('br', ' Bed Room')\n",
    "df_housing_type['Housing Type'] = df_housing_type['Housing Type'].str.replace(r'(?i)studio', 'STUDIO')\n",
    "df_housing_type.info()\n",
    "\n",
    "#### Creates regex patterns for footage and create dataframe listing-footage\n",
    "regex_footage = re.compile(r'(\\d+\\s*(?=ft))', flags=re.IGNORECASE)\n",
    "\n",
    "# Apply the regex(s) to the \"listing-title\" field and generate new field \"description\"\n",
    "df_footage = df_listings['listing-title'].str.extract(regex_footage, expand=True)\n",
    "df_footage.columns = ['Footage (sq-ft)']\n",
    "df_footage.info()\n",
    "df_footage\n",
    "# df = df_footage.join(df_rent).join(df_room_type)\n",
    "# df\n",
    "df_footage.isna().sum()\n",
    "df_footage.count()"
   ],
   "metadata": {
    "collapsed": false,
    "pycharm": {
     "name": "#%%\n"
    }
   }
  },
  {
   "cell_type": "code",
   "execution_count": 270,
   "outputs": [
    {
     "name": "stderr",
     "output_type": "stream",
     "text": [
      "/var/folders/9t/fx1d82y17ld65ll42bk27zz40000gn/T/ipykernel_14461/891142336.py:37: UserWarning: This pattern is interpreted as a regular expression, and has match groups. To actually get the groups, use str.extract.\n",
      "  df_cats = pd.DataFrame(df_features['listing-features'].str.contains(regex_cats_allowed, na = False, regex=True))\n",
      "/var/folders/9t/fx1d82y17ld65ll42bk27zz40000gn/T/ipykernel_14461/891142336.py:41: UserWarning: This pattern is interpreted as a regular expression, and has match groups. To actually get the groups, use str.extract.\n",
      "  df_dogs = pd.DataFrame(df_features['listing-features'].str.contains(regex_dogs_allowed, na = False, regex=True))\n",
      "/var/folders/9t/fx1d82y17ld65ll42bk27zz40000gn/T/ipykernel_14461/891142336.py:54: UserWarning: This pattern is interpreted as a regular expression, and has match groups. To actually get the groups, use str.extract.\n",
      "  df_smoking = pd.DataFrame(df_features['listing-features'].str.contains(regex_smoking, regex=True))\n"
     ]
    },
    {
     "data": {
      "text/plain": "     No Smoking\n0             N\n1             N\n2             N\n3             Y\n4             Y\n...         ...\n2853          N\n2854          N\n2855          N\n2856          N\n2857          N\n\n[2858 rows x 1 columns]",
      "text/html": "<div>\n<style scoped>\n    .dataframe tbody tr th:only-of-type {\n        vertical-align: middle;\n    }\n\n    .dataframe tbody tr th {\n        vertical-align: top;\n    }\n\n    .dataframe thead th {\n        text-align: right;\n    }\n</style>\n<table border=\"1\" class=\"dataframe\">\n  <thead>\n    <tr style=\"text-align: right;\">\n      <th></th>\n      <th>No Smoking</th>\n    </tr>\n  </thead>\n  <tbody>\n    <tr>\n      <th>0</th>\n      <td>N</td>\n    </tr>\n    <tr>\n      <th>1</th>\n      <td>N</td>\n    </tr>\n    <tr>\n      <th>2</th>\n      <td>N</td>\n    </tr>\n    <tr>\n      <th>3</th>\n      <td>Y</td>\n    </tr>\n    <tr>\n      <th>4</th>\n      <td>Y</td>\n    </tr>\n    <tr>\n      <th>...</th>\n      <td>...</td>\n    </tr>\n    <tr>\n      <th>2853</th>\n      <td>N</td>\n    </tr>\n    <tr>\n      <th>2854</th>\n      <td>N</td>\n    </tr>\n    <tr>\n      <th>2855</th>\n      <td>N</td>\n    </tr>\n    <tr>\n      <th>2856</th>\n      <td>N</td>\n    </tr>\n    <tr>\n      <th>2857</th>\n      <td>N</td>\n    </tr>\n  </tbody>\n</table>\n<p>2858 rows × 1 columns</p>\n</div>"
     },
     "execution_count": 270,
     "metadata": {},
     "output_type": "execute_result"
    }
   ],
   "source": [
    "## Get the listing-features fields from the data and Clean it\n",
    "### - Separates the various features of the listing into individual columns\n",
    "\n",
    "df_features = pd.DataFrame(df_listings['listing-features'])\n",
    "# df_features.info()\n",
    "\n",
    "#### Creates regex patterns for various features\n",
    "\n",
    "# LISTING TYPE\n",
    "regex_listing_type = re.compile(r'(house|apartment|duplex|flat|condo|townhouse|loft)|(?:open house)', flags=re.IGNORECASE)\n",
    "\n",
    "# CATs Allowed\n",
    "regex_cats_allowed = re.compile(r'(cats are OK)', flags=re.IGNORECASE)\n",
    "\n",
    "# Dogs Allowed\n",
    "regex_dogs_allowed = re.compile(r'(dogs are OK)', flags=re.IGNORECASE)\n",
    "\n",
    "# LAUNDRY TYPE\n",
    "regex_laundry = re.compile(r'(w/d in unit|w/d hookups|laundry in bldg|no laundry on site|laundry on site)', flags=re.IGNORECASE)\n",
    "\n",
    "# GARAGE\n",
    "regex_parking = re.compile(r'(attached garage|detached garage|no parking|off-street parking|street parking|carport|valet parking)', flags=re.IGNORECASE)\n",
    "\n",
    "# RENT PERIOD\n",
    "regex_rent_period = re.compile(r'(monthly|weekly)', flags=re.IGNORECASE)\n",
    "\n",
    "# SMOKING\n",
    "regex_smoking = re.compile(r'(\\w+.smoking)', flags=re.IGNORECASE)\n",
    "\n",
    "# APPLICATION FEES\n",
    "regex_app_fees = re.compile(r'(\\$\\d+)', flags=re.IGNORECASE)\n",
    "\n",
    "\n",
    "df_listing_type = df_features['listing-features'].str.extract(regex_listing_type)\n",
    "df_listing_type.columns = ['Listing Type']\n",
    "\n",
    "df_cats = pd.DataFrame(df_features['listing-features'].str.contains(regex_cats_allowed, na = False, regex=True))\n",
    "df_cats.columns=['Cats Allowed']\n",
    "df_cats['Cats Allowed'] = np.where(df_cats['Cats Allowed'], 'Y', 'N')\n",
    "\n",
    "df_dogs = pd.DataFrame(df_features['listing-features'].str.contains(regex_dogs_allowed, na = False, regex=True))\n",
    "df_dogs.columns=['Dogs Allowed']\n",
    "df_dogs['Dogs Allowed'] = np.where(df_dogs['Dogs Allowed'], 'Y', 'N')\n",
    "\n",
    "df_laundry = df_features['listing-features'].str.extract(regex_laundry, expand=True)\n",
    "df_laundry.columns = ['Laundry Type']\n",
    "\n",
    "df_parking = df_features['listing-features'].str.extract(regex_parking, expand=True)\n",
    "df_parking.columns = ['Parking Type']\n",
    "\n",
    "df_rent_period = df_features['listing-features'].str.extract(regex_rent_period, expand=True)\n",
    "df_rent_period.columns = ['Rent Period']\n",
    "\n",
    "df_smoking = pd.DataFrame(df_features['listing-features'].str.contains(regex_smoking, regex=True))\n",
    "df_smoking.columns = ['No Smoking']\n",
    "df_smoking['No Smoking'] = np.where(df_smoking['No Smoking'], 'Y', 'N')\n",
    "\n",
    "df_app_fees = df_features['listing-features'].str.extract(regex_app_fees, expand=True)\n",
    "df_app_fees.columns = ['Application Fees']\n",
    "########### np.where(df_app_fees[0].isna() == True)[0]\n",
    "df_smoking"
   ],
   "metadata": {
    "collapsed": false,
    "pycharm": {
     "name": "#%%\n"
    }
   }
  },
  {
   "cell_type": "code",
   "execution_count": 271,
   "metadata": {
    "pycharm": {
     "name": "#%%\n"
    }
   },
   "outputs": [],
   "source": [
    "## Get the listing-housing-type fields from the data and Clean it\n",
    "### - Separate Number of BedRooms and Bathrooms of the listing into individual columns\n",
    "\n",
    "df_housing_type = pd.DataFrame(df_listings['listing-housing-type'])\n",
    "df_housing_type.columns = ['listing-housing-type']\n",
    "\n",
    "# BED ROOMS\n",
    "regex_bedrooms = re.compile(r'(\\d+(?=br))', flags=re.IGNORECASE)\n",
    "\n",
    "# BATH\n",
    "regex_baths = re.compile(r'(\\d*\\.*\\d*(?=ba))', flags=re.IGNORECASE)\n",
    "\n",
    "df_bedrooms = df_housing_type['listing-housing-type'].str.extract(regex_bedrooms, expand=True)\n",
    "df_baths = df_housing_type['listing-housing-type'].str.extract(regex_baths, expand=True)\n",
    "\n",
    "\n",
    "df_bedrooms.columns = ['Total Bed Rooms']\n",
    "df_baths.columns = ['Total Baths']\n"
   ]
  },
  {
   "cell_type": "code",
   "execution_count": 272,
   "metadata": {
    "pycharm": {
     "name": "#%%\n"
    }
   },
   "outputs": [
    {
     "data": {
      "text/plain": "Total Images    2794\ndtype: int64"
     },
     "execution_count": 272,
     "metadata": {},
     "output_type": "execute_result"
    }
   ],
   "source": [
    "## Get the images of the listing s and count the total images available\n",
    "\n",
    "df_listing_link = pd.DataFrame(df_listings['listing-link'])\n",
    "df_listing_link\n",
    "\n",
    "\n",
    "# Regex to get total images\n",
    "\n",
    "regex_images = re.compile(r'((?<=of)\\s\\d+)', flags=re.IGNORECASE)\n",
    "\n",
    "df_images = df_listing_link['listing-link'].str.extract(regex_images, expand=True)\n",
    "df_images.columns = ['Total Images']\n",
    "df_images.isna().sum()\n",
    "df_images.count()"
   ]
  },
  {
   "cell_type": "code",
   "execution_count": 273,
   "outputs": [
    {
     "data": {
      "text/plain": "      Days Ago Fetch Date Posted Date\n0           10 2016-11-06  2016-10-27\n1            5 2016-11-06  2016-11-01\n2           10 2016-11-06  2016-10-27\n3           12 2016-11-06  2016-10-25\n4            4 2016-11-06  2016-11-02\n...        ...        ...         ...\n2853         3 2016-11-06  2016-11-03\n2854         5 2016-11-06  2016-11-01\n2855         8 2016-11-06  2016-10-29\n2856        12 2016-11-06  2016-10-25\n2857         6 2016-11-06  2016-10-31\n\n[2858 rows x 3 columns]",
      "text/html": "<div>\n<style scoped>\n    .dataframe tbody tr th:only-of-type {\n        vertical-align: middle;\n    }\n\n    .dataframe tbody tr th {\n        vertical-align: top;\n    }\n\n    .dataframe thead th {\n        text-align: right;\n    }\n</style>\n<table border=\"1\" class=\"dataframe\">\n  <thead>\n    <tr style=\"text-align: right;\">\n      <th></th>\n      <th>Days Ago</th>\n      <th>Fetch Date</th>\n      <th>Posted Date</th>\n    </tr>\n  </thead>\n  <tbody>\n    <tr>\n      <th>0</th>\n      <td>10</td>\n      <td>2016-11-06</td>\n      <td>2016-10-27</td>\n    </tr>\n    <tr>\n      <th>1</th>\n      <td>5</td>\n      <td>2016-11-06</td>\n      <td>2016-11-01</td>\n    </tr>\n    <tr>\n      <th>2</th>\n      <td>10</td>\n      <td>2016-11-06</td>\n      <td>2016-10-27</td>\n    </tr>\n    <tr>\n      <th>3</th>\n      <td>12</td>\n      <td>2016-11-06</td>\n      <td>2016-10-25</td>\n    </tr>\n    <tr>\n      <th>4</th>\n      <td>4</td>\n      <td>2016-11-06</td>\n      <td>2016-11-02</td>\n    </tr>\n    <tr>\n      <th>...</th>\n      <td>...</td>\n      <td>...</td>\n      <td>...</td>\n    </tr>\n    <tr>\n      <th>2853</th>\n      <td>3</td>\n      <td>2016-11-06</td>\n      <td>2016-11-03</td>\n    </tr>\n    <tr>\n      <th>2854</th>\n      <td>5</td>\n      <td>2016-11-06</td>\n      <td>2016-11-01</td>\n    </tr>\n    <tr>\n      <th>2855</th>\n      <td>8</td>\n      <td>2016-11-06</td>\n      <td>2016-10-29</td>\n    </tr>\n    <tr>\n      <th>2856</th>\n      <td>12</td>\n      <td>2016-11-06</td>\n      <td>2016-10-25</td>\n    </tr>\n    <tr>\n      <th>2857</th>\n      <td>6</td>\n      <td>2016-11-06</td>\n      <td>2016-10-31</td>\n    </tr>\n  </tbody>\n</table>\n<p>2858 rows × 3 columns</p>\n</div>"
     },
     "execution_count": 273,
     "metadata": {},
     "output_type": "execute_result"
    }
   ],
   "source": [
    "df_date_posted = pd.DataFrame(df_listings['listing-posting-date'])\n",
    "df_date_posted\n",
    "\n",
    "regex_date = re.compile(r'(\\d+(?=\\s*days ago)|day ago|hours ago|hour ago)', flags=re.IGNORECASE)\n",
    "\n",
    "df_date_posted = df_date_posted['listing-posting-date'].str.extract(regex_date, expand=True)\n",
    "df_date_posted.columns = ['Days Ago']\n",
    "# df_date_posted['Posted Date'].value_counts()\n",
    "df_date_posted['Days Ago'] = df_date_posted['Days Ago'].str.replace('day ago', '1')\n",
    "df_date_posted['Days Ago'] = df_date_posted['Days Ago'].str.replace(r'hours ago', '1')\n",
    "df_date_posted['Days Ago'] = df_date_posted['Days Ago'].astype(int)\n",
    "df_date_posted['Fetch Date'] = pd.to_datetime('2016-11-06')\n",
    "df_date_posted['Posted Date'] = df_date_posted['Fetch Date'] - pd.to_timedelta(df_date_posted['Days Ago'], unit='d')\n",
    "df_date_posted"
   ],
   "metadata": {
    "collapsed": false,
    "pycharm": {
     "name": "#%%\n"
    }
   }
  },
  {
   "cell_type": "code",
   "execution_count": 274,
   "outputs": [
    {
     "data": {
      "text/plain": "                                            Description    Rent  \\\n0     Apartment home available July 1st on Chicago’s...  $1795    \n1     Call Apartment Guys at 773-549-3474 and ask fo...  $1650    \n2     Contact me to learn more about an innovative L...  $2860    \n3     PROPERTY INFO;ID: 232839975Rent: $3,500 / Mont...  $3500    \n4     4535 N Paulina Unit #3D Chicago, IL 60640;Brig...  $1225    \n...                                                 ...     ...   \n2853  Interested in this property?;Click on: Reply t...  $3685    \n2854  We are conveniently located near Edens, Metra ...  $1400    \n2855  Interested in this property?;Click on: Reply t...  $2250    \n2856  PROPERTY INFO;ID: 237708192Rent: $3,147 / Mont...  $3147    \n2857  1BR / 1Ba;apartment;No pets;No smoking;laundry...  $1295    \n\n     Footage (sq-ft) Listing Type Cats Allowed Dogs Allowed     Laundry Type  \\\n0                NaN    apartment            Y            N      w/d in unit   \n1                NaN    apartment            Y            Y      w/d in unit   \n2               2213        House            Y            Y      w/d hookups   \n3                NaN    apartment            Y            Y      w/d in unit   \n4                NaN    apartment            Y            Y  laundry in bldg   \n...              ...          ...          ...          ...              ...   \n2853             NaN    apartment            Y            Y      w/d in unit   \n2854             NaN    apartment            N            N  laundry on site   \n2855             NaN    apartment            Y            Y      w/d in unit   \n2856             NaN    apartment            Y            Y  laundry in bldg   \n2857             NaN    apartment            N            N  laundry in bldg   \n\n            Parking Type Rent Period No Smoking Application Fees  \\\n0        attached garage     monthly          N              NaN   \n1         street parking     monthly          N              NaN   \n2        attached garage     monthly          N              $90   \n3        attached garage     monthly          Y              NaN   \n4         street parking     monthly          Y              NaN   \n...                  ...         ...        ...              ...   \n2853     attached garage     monthly          N              NaN   \n2854  off-street parking     monthly          N              NaN   \n2855     attached garage     monthly          N              NaN   \n2856     attached garage     monthly          N              NaN   \n2857      street parking     monthly          N              $40   \n\n     Total Bed Rooms Total Baths Total Images Posted Date  \n0                  1           1           19  2016-10-27  \n1                  1           1           10  2016-11-01  \n2                  4         2.5          NaN  2016-10-27  \n3                  2           2           23  2016-10-25  \n4                  1           1            8  2016-11-02  \n...              ...         ...          ...         ...  \n2853               2           2           13  2016-11-03  \n2854               1           1           11  2016-11-01  \n2855               1           1            6  2016-10-29  \n2856               3           2            9  2016-10-25  \n2857               1           1           10  2016-10-31  \n\n[2858 rows x 15 columns]",
      "text/html": "<div>\n<style scoped>\n    .dataframe tbody tr th:only-of-type {\n        vertical-align: middle;\n    }\n\n    .dataframe tbody tr th {\n        vertical-align: top;\n    }\n\n    .dataframe thead th {\n        text-align: right;\n    }\n</style>\n<table border=\"1\" class=\"dataframe\">\n  <thead>\n    <tr style=\"text-align: right;\">\n      <th></th>\n      <th>Description</th>\n      <th>Rent</th>\n      <th>Footage (sq-ft)</th>\n      <th>Listing Type</th>\n      <th>Cats Allowed</th>\n      <th>Dogs Allowed</th>\n      <th>Laundry Type</th>\n      <th>Parking Type</th>\n      <th>Rent Period</th>\n      <th>No Smoking</th>\n      <th>Application Fees</th>\n      <th>Total Bed Rooms</th>\n      <th>Total Baths</th>\n      <th>Total Images</th>\n      <th>Posted Date</th>\n    </tr>\n  </thead>\n  <tbody>\n    <tr>\n      <th>0</th>\n      <td>Apartment home available July 1st on Chicago’s...</td>\n      <td>$1795</td>\n      <td>NaN</td>\n      <td>apartment</td>\n      <td>Y</td>\n      <td>N</td>\n      <td>w/d in unit</td>\n      <td>attached garage</td>\n      <td>monthly</td>\n      <td>N</td>\n      <td>NaN</td>\n      <td>1</td>\n      <td>1</td>\n      <td>19</td>\n      <td>2016-10-27</td>\n    </tr>\n    <tr>\n      <th>1</th>\n      <td>Call Apartment Guys at 773-549-3474 and ask fo...</td>\n      <td>$1650</td>\n      <td>NaN</td>\n      <td>apartment</td>\n      <td>Y</td>\n      <td>Y</td>\n      <td>w/d in unit</td>\n      <td>street parking</td>\n      <td>monthly</td>\n      <td>N</td>\n      <td>NaN</td>\n      <td>1</td>\n      <td>1</td>\n      <td>10</td>\n      <td>2016-11-01</td>\n    </tr>\n    <tr>\n      <th>2</th>\n      <td>Contact me to learn more about an innovative L...</td>\n      <td>$2860</td>\n      <td>2213</td>\n      <td>House</td>\n      <td>Y</td>\n      <td>Y</td>\n      <td>w/d hookups</td>\n      <td>attached garage</td>\n      <td>monthly</td>\n      <td>N</td>\n      <td>$90</td>\n      <td>4</td>\n      <td>2.5</td>\n      <td>NaN</td>\n      <td>2016-10-27</td>\n    </tr>\n    <tr>\n      <th>3</th>\n      <td>PROPERTY INFO;ID: 232839975Rent: $3,500 / Mont...</td>\n      <td>$3500</td>\n      <td>NaN</td>\n      <td>apartment</td>\n      <td>Y</td>\n      <td>Y</td>\n      <td>w/d in unit</td>\n      <td>attached garage</td>\n      <td>monthly</td>\n      <td>Y</td>\n      <td>NaN</td>\n      <td>2</td>\n      <td>2</td>\n      <td>23</td>\n      <td>2016-10-25</td>\n    </tr>\n    <tr>\n      <th>4</th>\n      <td>4535 N Paulina Unit #3D Chicago, IL 60640;Brig...</td>\n      <td>$1225</td>\n      <td>NaN</td>\n      <td>apartment</td>\n      <td>Y</td>\n      <td>Y</td>\n      <td>laundry in bldg</td>\n      <td>street parking</td>\n      <td>monthly</td>\n      <td>Y</td>\n      <td>NaN</td>\n      <td>1</td>\n      <td>1</td>\n      <td>8</td>\n      <td>2016-11-02</td>\n    </tr>\n    <tr>\n      <th>...</th>\n      <td>...</td>\n      <td>...</td>\n      <td>...</td>\n      <td>...</td>\n      <td>...</td>\n      <td>...</td>\n      <td>...</td>\n      <td>...</td>\n      <td>...</td>\n      <td>...</td>\n      <td>...</td>\n      <td>...</td>\n      <td>...</td>\n      <td>...</td>\n      <td>...</td>\n    </tr>\n    <tr>\n      <th>2853</th>\n      <td>Interested in this property?;Click on: Reply t...</td>\n      <td>$3685</td>\n      <td>NaN</td>\n      <td>apartment</td>\n      <td>Y</td>\n      <td>Y</td>\n      <td>w/d in unit</td>\n      <td>attached garage</td>\n      <td>monthly</td>\n      <td>N</td>\n      <td>NaN</td>\n      <td>2</td>\n      <td>2</td>\n      <td>13</td>\n      <td>2016-11-03</td>\n    </tr>\n    <tr>\n      <th>2854</th>\n      <td>We are conveniently located near Edens, Metra ...</td>\n      <td>$1400</td>\n      <td>NaN</td>\n      <td>apartment</td>\n      <td>N</td>\n      <td>N</td>\n      <td>laundry on site</td>\n      <td>off-street parking</td>\n      <td>monthly</td>\n      <td>N</td>\n      <td>NaN</td>\n      <td>1</td>\n      <td>1</td>\n      <td>11</td>\n      <td>2016-11-01</td>\n    </tr>\n    <tr>\n      <th>2855</th>\n      <td>Interested in this property?;Click on: Reply t...</td>\n      <td>$2250</td>\n      <td>NaN</td>\n      <td>apartment</td>\n      <td>Y</td>\n      <td>Y</td>\n      <td>w/d in unit</td>\n      <td>attached garage</td>\n      <td>monthly</td>\n      <td>N</td>\n      <td>NaN</td>\n      <td>1</td>\n      <td>1</td>\n      <td>6</td>\n      <td>2016-10-29</td>\n    </tr>\n    <tr>\n      <th>2856</th>\n      <td>PROPERTY INFO;ID: 237708192Rent: $3,147 / Mont...</td>\n      <td>$3147</td>\n      <td>NaN</td>\n      <td>apartment</td>\n      <td>Y</td>\n      <td>Y</td>\n      <td>laundry in bldg</td>\n      <td>attached garage</td>\n      <td>monthly</td>\n      <td>N</td>\n      <td>NaN</td>\n      <td>3</td>\n      <td>2</td>\n      <td>9</td>\n      <td>2016-10-25</td>\n    </tr>\n    <tr>\n      <th>2857</th>\n      <td>1BR / 1Ba;apartment;No pets;No smoking;laundry...</td>\n      <td>$1295</td>\n      <td>NaN</td>\n      <td>apartment</td>\n      <td>N</td>\n      <td>N</td>\n      <td>laundry in bldg</td>\n      <td>street parking</td>\n      <td>monthly</td>\n      <td>N</td>\n      <td>$40</td>\n      <td>1</td>\n      <td>1</td>\n      <td>10</td>\n      <td>2016-10-31</td>\n    </tr>\n  </tbody>\n</table>\n<p>2858 rows × 15 columns</p>\n</div>"
     },
     "execution_count": 274,
     "metadata": {},
     "output_type": "execute_result"
    }
   ],
   "source": [
    "df_kush = df_description.join(df_rent).join(df_footage).join(df_listing_type).join(df_cats).join(df_dogs).join(df_laundry).join(df_parking).join(df_rent_period).join(df_smoking).join(df_app_fees).join(df_bedrooms).join(df_baths).join(df_images).join(df_date_posted['Posted Date'])\n",
    "## df_description.to_excel(\"data/description.xlsx\", index=False)\n",
    "df_kush"
   ],
   "metadata": {
    "collapsed": false,
    "pycharm": {
     "name": "#%%\n"
    }
   }
  },
  {
   "cell_type": "markdown",
   "metadata": {
    "pycharm": {
     "name": "#%% md\n"
    }
   },
   "source": []
  }
 ],
 "metadata": {
  "kernelspec": {
   "display_name": "Python 3 (ipykernel)",
   "language": "python",
   "name": "python3"
  },
  "language_info": {
   "codemirror_mode": {
    "name": "ipython",
    "version": 3
   },
   "file_extension": ".py",
   "mimetype": "text/x-python",
   "name": "python",
   "nbconvert_exporter": "python",
   "pygments_lexer": "ipython3",
   "version": "3.9.13"
  }
 },
 "nbformat": 4,
 "nbformat_minor": 1
}